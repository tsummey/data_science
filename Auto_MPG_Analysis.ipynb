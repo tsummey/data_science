{
 "cells": [
  {
   "cell_type": "markdown",
   "id": "f57aa96a",
   "metadata": {},
   "source": [
    "<font size = 6; color = \"darkblue\"><b>Project Problem Statement - Auto-mpg Analysis</b></font><br>\n",
    "***"
   ]
  },
  {
   "cell_type": "markdown",
   "id": "9a40c8c5",
   "metadata": {},
   "source": [
    "<font size=4><b>Context</b></font>"
   ]
  },
  {
   "cell_type": "markdown",
   "id": "16cf5b57",
   "metadata": {},
   "source": [
    "The shifting market conditions, globalization, cost pressure, and volatility are leading to a change in the automobile market landscape. The emergence of data, in conjunction with machine learning in automobile companies, has paved a way that is helping bring operational and business transformations.\n",
    "\n",
    "The automobile market is vast and diverse, with numerous vehicle categories being manufactured and sold with varying configurations of attributes such as displacement, horsepower, and acceleration. We aim to find combinations of these features that can clearly distinguish certain groups of automobiles from others through this analysis, as this will inform other downstream processes for any organization aiming to sell each group of vehicles to a slightly different target audience.\n",
    "\n",
    "You are a Data Scientist at SecondLife which is a leading used car dealership with numerous outlets across the US. Recently, they have started shifting their focus to vintage cars and have been diligently collecting data about all the vintage cars they have sold over the years. The Director of Operations at SecondLife wants to leverage the data to extract insights about the cars and find different groups of vintage cars to target the audience more efficiently."
   ]
  },
  {
   "cell_type": "markdown",
   "id": "4c3a11f2",
   "metadata": {},
   "source": [
    "<font size=4><b>Objective</b></font>"
   ]
  },
  {
   "cell_type": "markdown",
   "id": "bef1d690",
   "metadata": {},
   "source": [
    "The objective of this problem is to explore the data, extract meaningful insights, and find different groups of vehicles in the data by using dimensionality reduction techniques like PCA and t-SNE."
   ]
  },
  {
   "cell_type": "markdown",
   "id": "91b24a9a",
   "metadata": {},
   "source": [
    "<font size=4><b>Data Description</b></font>"
   ]
  },
  {
   "cell_type": "markdown",
   "id": "c81cef33",
   "metadata": {},
   "source": [
    "There are 8 variables in the dataset:\n",
    "<ul>\n",
    "    <li>mpg: miles per gallon</li>\n",
    "    <li>cyl: number of cylinders</li>\n",
    "    <li>disp: engine displacement (cu. inches) or engine size</li>\n",
    "    <li>hp: horsepower</li>\n",
    "    <li>wt: vehicle weight (lbs.)</li>\n",
    "    <li>acc: time taken to accelerate from 0 to 60 mph (sec.)</li>\n",
    "    <li>yr: model year</li>\n",
    "    <li>car name: car model name</li>\n",
    "</ul>"
   ]
  },
  {
   "cell_type": "markdown",
   "id": "9fd5712a",
   "metadata": {},
   "source": [
    "<font size=3><b>Import the libraries</b></font>"
   ]
  },
  {
   "cell_type": "code",
   "execution_count": 1,
   "id": "17d19b8e",
   "metadata": {},
   "outputs": [],
   "source": [
    "import pandas as pd\n",
    "import numpy as np\n",
    "import matplotlib.pyplot as plt\n",
    "%matplotlib inline\n",
    "import seaborn as sns\n",
    "\n",
    "# To scale the data using z-score\n",
    "from sklearn.preprocessing import StandardScaler\n",
    "\n",
    "# Import PCA and t-SNE\n",
    "from sklearn.decomposition import PCA\n",
    "from sklearn.manifold import TSNE\n",
    "\n",
    "# Library to suppress warnings, don't make a practice of using it, it's bad practice\n",
    "\n",
    "import warnings\n",
    "warnings.filterwarnings('ignore')"
   ]
  },
  {
   "cell_type": "markdown",
   "id": "d106b52a",
   "metadata": {},
   "source": [
    "<font size=3><b>Loading the dataset</b></font>"
   ]
  },
  {
   "cell_type": "code",
   "execution_count": 2,
   "id": "896310b5",
   "metadata": {},
   "outputs": [],
   "source": [
    "# Loading the dataset\n",
    "df = pd.read_csv('auto-mpg.csv')"
   ]
  },
  {
   "cell_type": "code",
   "execution_count": 3,
   "id": "dfd7368e",
   "metadata": {},
   "outputs": [
    {
     "data": {
      "text/html": [
       "<div>\n",
       "<style scoped>\n",
       "    .dataframe tbody tr th:only-of-type {\n",
       "        vertical-align: middle;\n",
       "    }\n",
       "\n",
       "    .dataframe tbody tr th {\n",
       "        vertical-align: top;\n",
       "    }\n",
       "\n",
       "    .dataframe thead th {\n",
       "        text-align: right;\n",
       "    }\n",
       "</style>\n",
       "<table border=\"1\" class=\"dataframe\">\n",
       "  <thead>\n",
       "    <tr style=\"text-align: right;\">\n",
       "      <th></th>\n",
       "      <th>mpg</th>\n",
       "      <th>cylinders</th>\n",
       "      <th>displacement</th>\n",
       "      <th>horsepower</th>\n",
       "      <th>weight</th>\n",
       "      <th>acceleration</th>\n",
       "      <th>model year</th>\n",
       "      <th>car name</th>\n",
       "    </tr>\n",
       "  </thead>\n",
       "  <tbody>\n",
       "    <tr>\n",
       "      <th>0</th>\n",
       "      <td>18.0</td>\n",
       "      <td>8</td>\n",
       "      <td>307.0</td>\n",
       "      <td>130</td>\n",
       "      <td>3504</td>\n",
       "      <td>12.0</td>\n",
       "      <td>70</td>\n",
       "      <td>chevrolet chevelle malibu</td>\n",
       "    </tr>\n",
       "    <tr>\n",
       "      <th>1</th>\n",
       "      <td>15.0</td>\n",
       "      <td>8</td>\n",
       "      <td>350.0</td>\n",
       "      <td>165</td>\n",
       "      <td>3693</td>\n",
       "      <td>11.5</td>\n",
       "      <td>70</td>\n",
       "      <td>buick skylark 320</td>\n",
       "    </tr>\n",
       "    <tr>\n",
       "      <th>2</th>\n",
       "      <td>18.0</td>\n",
       "      <td>8</td>\n",
       "      <td>318.0</td>\n",
       "      <td>150</td>\n",
       "      <td>3436</td>\n",
       "      <td>11.0</td>\n",
       "      <td>70</td>\n",
       "      <td>plymouth satellite</td>\n",
       "    </tr>\n",
       "    <tr>\n",
       "      <th>3</th>\n",
       "      <td>16.0</td>\n",
       "      <td>8</td>\n",
       "      <td>304.0</td>\n",
       "      <td>150</td>\n",
       "      <td>3433</td>\n",
       "      <td>12.0</td>\n",
       "      <td>70</td>\n",
       "      <td>amc rebel sst</td>\n",
       "    </tr>\n",
       "    <tr>\n",
       "      <th>4</th>\n",
       "      <td>17.0</td>\n",
       "      <td>8</td>\n",
       "      <td>302.0</td>\n",
       "      <td>140</td>\n",
       "      <td>3449</td>\n",
       "      <td>10.5</td>\n",
       "      <td>70</td>\n",
       "      <td>ford torino</td>\n",
       "    </tr>\n",
       "  </tbody>\n",
       "</table>\n",
       "</div>"
      ],
      "text/plain": [
       "    mpg  cylinders  displacement horsepower  weight  acceleration  model year  \\\n",
       "0  18.0          8         307.0        130    3504          12.0          70   \n",
       "1  15.0          8         350.0        165    3693          11.5          70   \n",
       "2  18.0          8         318.0        150    3436          11.0          70   \n",
       "3  16.0          8         304.0        150    3433          12.0          70   \n",
       "4  17.0          8         302.0        140    3449          10.5          70   \n",
       "\n",
       "                    car name  \n",
       "0  chevrolet chevelle malibu  \n",
       "1          buick skylark 320  \n",
       "2         plymouth satellite  \n",
       "3              amc rebel sst  \n",
       "4                ford torino  "
      ]
     },
     "execution_count": 3,
     "metadata": {},
     "output_type": "execute_result"
    }
   ],
   "source": [
    "# Looking at the first 5 records\n",
    "df.head()"
   ]
  },
  {
   "cell_type": "markdown",
   "id": "e2a74cc8",
   "metadata": {},
   "source": [
    "<div class=\"alert alert-block alert-danger\">\n",
    "    <font color='black' size=5><b>Processing the Data</b></font>\n",
    "</div>"
   ]
  },
  {
   "cell_type": "markdown",
   "id": "c42f1650",
   "metadata": {},
   "source": [
    "<font size=3><b>Check dataset info</b></font>"
   ]
  },
  {
   "cell_type": "code",
   "execution_count": 4,
   "id": "ded2ff0d",
   "metadata": {},
   "outputs": [
    {
     "name": "stdout",
     "output_type": "stream",
     "text": [
      "<class 'pandas.core.frame.DataFrame'>\n",
      "RangeIndex: 398 entries, 0 to 397\n",
      "Data columns (total 8 columns):\n",
      " #   Column        Non-Null Count  Dtype  \n",
      "---  ------        --------------  -----  \n",
      " 0   mpg           398 non-null    float64\n",
      " 1   cylinders     398 non-null    int64  \n",
      " 2   displacement  398 non-null    float64\n",
      " 3   horsepower    398 non-null    object \n",
      " 4   weight        398 non-null    int64  \n",
      " 5   acceleration  398 non-null    float64\n",
      " 6   model year    398 non-null    int64  \n",
      " 7   car name      398 non-null    object \n",
      "dtypes: float64(3), int64(3), object(2)\n",
      "memory usage: 25.0+ KB\n"
     ]
    }
   ],
   "source": [
    "df.info()"
   ]
  },
  {
   "cell_type": "markdown",
   "id": "e083c6be",
   "metadata": {},
   "source": [
    "<div class=\"alert alert-block alert-info\">\n",
    "    <font size=4 color=black><b>Observations:</b></font><br>\n",
    "    <ul>\n",
    "        <li>There are <b>398 observations and 8 columns</b> in the data.</li>\n",
    "        <li> All the columns have 2940 non-null values, i.e., <b>there are no missing values in the data.</b></li>\n",
    "        <li><b>All the columns are numeric except \"horsepower\" and \"car name\"</b>.</li>\n",
    "        <li>The <b>datatype for 'horsepower' is expected to be 'numeric' and the datatype is 'object'</b>\n",
    "    </ul>\n",
    "</div>"
   ]
  },
  {
   "cell_type": "markdown",
   "id": "006feda4",
   "metadata": {},
   "source": [
    "<font size=3><b>Let's check the unique values in each column</b></font>"
   ]
  },
  {
   "cell_type": "code",
   "execution_count": 5,
   "id": "056f2f7a",
   "metadata": {},
   "outputs": [
    {
     "data": {
      "text/plain": [
       "mpg             129\n",
       "cylinders         5\n",
       "displacement     82\n",
       "horsepower       94\n",
       "weight          351\n",
       "acceleration     95\n",
       "model year       13\n",
       "car name        305\n",
       "dtype: int64"
      ]
     },
     "execution_count": 5,
     "metadata": {},
     "output_type": "execute_result"
    }
   ],
   "source": [
    "# Checking the count of unique values in each column\n",
    "df.nunique()"
   ]
  },
  {
   "cell_type": "markdown",
   "id": "fa16ccfc",
   "metadata": {},
   "source": [
    "<div class=\"alert alert-block alert-info\">\n",
    "    <font size=4 color=black><b>Observations:</b></font><br>\n",
    "    <ul>\n",
    "        <li>Car name is not unique, therefore it will not be dropped initially</li>\n",
    "        <li>\"car name\" and \"model year\" have a space in the name</li>\n",
    "    </ul>\n",
    "</div>"
   ]
  },
  {
   "cell_type": "markdown",
   "id": "ed525275",
   "metadata": {},
   "source": [
    "<font size=3><b>Replace the \" \" with \"_\" for columns \"car name\" and \"model year\"</b></font>"
   ]
  },
  {
   "cell_type": "code",
   "execution_count": 6,
   "id": "16ffeedc",
   "metadata": {},
   "outputs": [
    {
     "name": "stdout",
     "output_type": "stream",
     "text": [
      "mpg\n",
      "cylinders\n",
      "displacement\n",
      "horsepower\n",
      "weight\n",
      "acceleration\n",
      "model_year\n",
      "car_name\n"
     ]
    }
   ],
   "source": [
    "# Remove the space from \"model year\" and \"car name\"\n",
    "df.columns = df.columns.str.replace(' ', '_')\n",
    "\n",
    "# Make sure the spaces are gone\n",
    "for col in df.columns:\n",
    "    print(col)"
   ]
  },
  {
   "cell_type": "markdown",
   "id": "7291ddfa",
   "metadata": {},
   "source": [
    "<font size=3><b>Determine non-integer values for horsepower</b></font>"
   ]
  },
  {
   "cell_type": "code",
   "execution_count": 7,
   "id": "7da1f7d5",
   "metadata": {},
   "outputs": [
    {
     "name": "stdout",
     "output_type": "stream",
     "text": [
      "['?']\n"
     ]
    }
   ],
   "source": [
    "# Create a list of unique non-integers from horsepower values\n",
    "non_int = []\n",
    "for item in df['horsepower']:\n",
    "    for subitem in item.split():\n",
    "        if subitem.isdigit():\n",
    "            continue;\n",
    "        elif subitem not in non_int:\n",
    "            non_int.append(subitem)\n",
    "print(pd.unique(non_int))"
   ]
  },
  {
   "cell_type": "markdown",
   "id": "1ffa29b3",
   "metadata": {},
   "source": [
    "<div class=\"alert alert-block alert-info\">\n",
    "    <font size=4 color=black><b>Observations:</b></font><br>\n",
    "    <ul>\n",
    "        <li>A <font size=3 color=red><b>'?'</b></font> is the only non-numeric value used in horsepower</li>\n",
    "    </ul>\n",
    "</div>"
   ]
  },
  {
   "cell_type": "markdown",
   "id": "7774548c",
   "metadata": {},
   "source": [
    "<font size=3><b>Find the rows with a '?'</b></font>"
   ]
  },
  {
   "cell_type": "code",
   "execution_count": 8,
   "id": "7b129ccb",
   "metadata": {},
   "outputs": [
    {
     "name": "stdout",
     "output_type": "stream",
     "text": [
      "6\n"
     ]
    },
    {
     "data": {
      "text/html": [
       "<div>\n",
       "<style scoped>\n",
       "    .dataframe tbody tr th:only-of-type {\n",
       "        vertical-align: middle;\n",
       "    }\n",
       "\n",
       "    .dataframe tbody tr th {\n",
       "        vertical-align: top;\n",
       "    }\n",
       "\n",
       "    .dataframe thead th {\n",
       "        text-align: right;\n",
       "    }\n",
       "</style>\n",
       "<table border=\"1\" class=\"dataframe\">\n",
       "  <thead>\n",
       "    <tr style=\"text-align: right;\">\n",
       "      <th></th>\n",
       "      <th>mpg</th>\n",
       "      <th>cylinders</th>\n",
       "      <th>displacement</th>\n",
       "      <th>horsepower</th>\n",
       "      <th>weight</th>\n",
       "      <th>acceleration</th>\n",
       "      <th>model_year</th>\n",
       "      <th>car_name</th>\n",
       "    </tr>\n",
       "  </thead>\n",
       "  <tbody>\n",
       "    <tr>\n",
       "      <th>32</th>\n",
       "      <td>25.0</td>\n",
       "      <td>4</td>\n",
       "      <td>98.0</td>\n",
       "      <td>?</td>\n",
       "      <td>2046</td>\n",
       "      <td>19.0</td>\n",
       "      <td>71</td>\n",
       "      <td>ford pinto</td>\n",
       "    </tr>\n",
       "    <tr>\n",
       "      <th>126</th>\n",
       "      <td>21.0</td>\n",
       "      <td>6</td>\n",
       "      <td>200.0</td>\n",
       "      <td>?</td>\n",
       "      <td>2875</td>\n",
       "      <td>17.0</td>\n",
       "      <td>74</td>\n",
       "      <td>ford maverick</td>\n",
       "    </tr>\n",
       "    <tr>\n",
       "      <th>330</th>\n",
       "      <td>40.9</td>\n",
       "      <td>4</td>\n",
       "      <td>85.0</td>\n",
       "      <td>?</td>\n",
       "      <td>1835</td>\n",
       "      <td>17.3</td>\n",
       "      <td>80</td>\n",
       "      <td>renault lecar deluxe</td>\n",
       "    </tr>\n",
       "    <tr>\n",
       "      <th>336</th>\n",
       "      <td>23.6</td>\n",
       "      <td>4</td>\n",
       "      <td>140.0</td>\n",
       "      <td>?</td>\n",
       "      <td>2905</td>\n",
       "      <td>14.3</td>\n",
       "      <td>80</td>\n",
       "      <td>ford mustang cobra</td>\n",
       "    </tr>\n",
       "    <tr>\n",
       "      <th>354</th>\n",
       "      <td>34.5</td>\n",
       "      <td>4</td>\n",
       "      <td>100.0</td>\n",
       "      <td>?</td>\n",
       "      <td>2320</td>\n",
       "      <td>15.8</td>\n",
       "      <td>81</td>\n",
       "      <td>renault 18i</td>\n",
       "    </tr>\n",
       "    <tr>\n",
       "      <th>374</th>\n",
       "      <td>23.0</td>\n",
       "      <td>4</td>\n",
       "      <td>151.0</td>\n",
       "      <td>?</td>\n",
       "      <td>3035</td>\n",
       "      <td>20.5</td>\n",
       "      <td>82</td>\n",
       "      <td>amc concord dl</td>\n",
       "    </tr>\n",
       "  </tbody>\n",
       "</table>\n",
       "</div>"
      ],
      "text/plain": [
       "      mpg  cylinders  displacement horsepower  weight  acceleration  \\\n",
       "32   25.0          4          98.0          ?    2046          19.0   \n",
       "126  21.0          6         200.0          ?    2875          17.0   \n",
       "330  40.9          4          85.0          ?    1835          17.3   \n",
       "336  23.6          4         140.0          ?    2905          14.3   \n",
       "354  34.5          4         100.0          ?    2320          15.8   \n",
       "374  23.0          4         151.0          ?    3035          20.5   \n",
       "\n",
       "     model_year              car_name  \n",
       "32           71            ford pinto  \n",
       "126          74         ford maverick  \n",
       "330          80  renault lecar deluxe  \n",
       "336          80    ford mustang cobra  \n",
       "354          81           renault 18i  \n",
       "374          82        amc concord dl  "
      ]
     },
     "execution_count": 8,
     "metadata": {},
     "output_type": "execute_result"
    }
   ],
   "source": [
    "print(df['horsepower'].value_counts()['?'])\n",
    "df.loc[df['horsepower'] == '?']"
   ]
  },
  {
   "cell_type": "markdown",
   "id": "b4f0d6de",
   "metadata": {},
   "source": [
    "<font size=3><b>Find car_names with a '?' in horsepower</b></font>"
   ]
  },
  {
   "cell_type": "code",
   "execution_count": 9,
   "id": "9b91ac8e",
   "metadata": {},
   "outputs": [
    {
     "name": "stdout",
     "output_type": "stream",
     "text": [
      "ford pinto\n",
      "ford maverick\n",
      "renault lecar deluxe\n",
      "ford mustang cobra\n",
      "renault 18i\n",
      "amc concord dl\n"
     ]
    }
   ],
   "source": [
    "hp_NAN = df.loc[df['horsepower'] == '?'].car_name\n",
    "for item in hp_NAN:\n",
    "    print(item)"
   ]
  },
  {
   "cell_type": "markdown",
   "id": "62a23a52",
   "metadata": {},
   "source": [
    "<div class=\"alert alert-block alert-info\">\n",
    "    <font size=4 color=black><b>Observations:</b></font><br>\n",
    "    <ul>\n",
    "        <li>Horsepower is represented as an integer in the automobile industry, and <b>there are non-integer values in the column 'horsepower'</b></li>\n",
    "        <li>There is <b>only non-integer value of horsepower is '?'</b>.</li>\n",
    "        <li>There are 6 occurences of '?'</li>\n",
    "        <li>The '?' needs to be replace</li>\n",
    "    </ul>\n",
    "</div>"
   ]
  },
  {
   "cell_type": "markdown",
   "id": "81144e37",
   "metadata": {},
   "source": [
    "<font size=3><b>Calculate the mean horsepower using cars with similar features and replace the '?' in horsepower.</b></font>"
   ]
  },
  {
   "cell_type": "code",
   "execution_count": 10,
   "id": "5d3f2d32",
   "metadata": {},
   "outputs": [
    {
     "name": "stdout",
     "output_type": "stream",
     "text": [
      "Current value for verification\n"
     ]
    },
    {
     "data": {
      "text/html": [
       "<div>\n",
       "<style scoped>\n",
       "    .dataframe tbody tr th:only-of-type {\n",
       "        vertical-align: middle;\n",
       "    }\n",
       "\n",
       "    .dataframe tbody tr th {\n",
       "        vertical-align: top;\n",
       "    }\n",
       "\n",
       "    .dataframe thead th {\n",
       "        text-align: right;\n",
       "    }\n",
       "</style>\n",
       "<table border=\"1\" class=\"dataframe\">\n",
       "  <thead>\n",
       "    <tr style=\"text-align: right;\">\n",
       "      <th></th>\n",
       "      <th>mpg</th>\n",
       "      <th>cylinders</th>\n",
       "      <th>displacement</th>\n",
       "      <th>horsepower</th>\n",
       "      <th>weight</th>\n",
       "      <th>acceleration</th>\n",
       "      <th>model_year</th>\n",
       "      <th>car_name</th>\n",
       "    </tr>\n",
       "  </thead>\n",
       "  <tbody>\n",
       "    <tr>\n",
       "      <th>32</th>\n",
       "      <td>25.0</td>\n",
       "      <td>4</td>\n",
       "      <td>98.0</td>\n",
       "      <td>?</td>\n",
       "      <td>2046</td>\n",
       "      <td>19.0</td>\n",
       "      <td>71</td>\n",
       "      <td>ford pinto</td>\n",
       "    </tr>\n",
       "  </tbody>\n",
       "</table>\n",
       "</div>"
      ],
      "text/plain": [
       "     mpg  cylinders  displacement horsepower  weight  acceleration  \\\n",
       "32  25.0          4          98.0          ?    2046          19.0   \n",
       "\n",
       "    model_year    car_name  \n",
       "32          71  ford pinto  "
      ]
     },
     "execution_count": 10,
     "metadata": {},
     "output_type": "execute_result"
    }
   ],
   "source": [
    "print('Current value for verification')\n",
    "df.loc[(df.car_name == 'ford pinto') & (df.horsepower == '?')]"
   ]
  },
  {
   "cell_type": "code",
   "execution_count": 11,
   "id": "dc1d8054",
   "metadata": {
    "scrolled": true
   },
   "outputs": [
    {
     "name": "stdout",
     "output_type": "stream",
     "text": [
      "\n",
      "The mean horsepower for similar vehicles is 83 \n",
      "\n"
     ]
    },
    {
     "data": {
      "text/html": [
       "<div>\n",
       "<style scoped>\n",
       "    .dataframe tbody tr th:only-of-type {\n",
       "        vertical-align: middle;\n",
       "    }\n",
       "\n",
       "    .dataframe tbody tr th {\n",
       "        vertical-align: top;\n",
       "    }\n",
       "\n",
       "    .dataframe thead th {\n",
       "        text-align: right;\n",
       "    }\n",
       "</style>\n",
       "<table border=\"1\" class=\"dataframe\">\n",
       "  <thead>\n",
       "    <tr style=\"text-align: right;\">\n",
       "      <th></th>\n",
       "      <th>mpg</th>\n",
       "      <th>cylinders</th>\n",
       "      <th>displacement</th>\n",
       "      <th>horsepower</th>\n",
       "      <th>weight</th>\n",
       "      <th>acceleration</th>\n",
       "      <th>model_year</th>\n",
       "      <th>car_name</th>\n",
       "    </tr>\n",
       "  </thead>\n",
       "  <tbody>\n",
       "    <tr>\n",
       "      <th>32</th>\n",
       "      <td>25.0</td>\n",
       "      <td>4</td>\n",
       "      <td>98.0</td>\n",
       "      <td>83</td>\n",
       "      <td>2046</td>\n",
       "      <td>19.0</td>\n",
       "      <td>71</td>\n",
       "      <td>ford pinto</td>\n",
       "    </tr>\n",
       "    <tr>\n",
       "      <th>112</th>\n",
       "      <td>19.0</td>\n",
       "      <td>4</td>\n",
       "      <td>122.0</td>\n",
       "      <td>85</td>\n",
       "      <td>2310</td>\n",
       "      <td>18.5</td>\n",
       "      <td>73</td>\n",
       "      <td>ford pinto</td>\n",
       "    </tr>\n",
       "    <tr>\n",
       "      <th>130</th>\n",
       "      <td>26.0</td>\n",
       "      <td>4</td>\n",
       "      <td>122.0</td>\n",
       "      <td>80</td>\n",
       "      <td>2451</td>\n",
       "      <td>16.5</td>\n",
       "      <td>74</td>\n",
       "      <td>ford pinto</td>\n",
       "    </tr>\n",
       "    <tr>\n",
       "      <th>168</th>\n",
       "      <td>23.0</td>\n",
       "      <td>4</td>\n",
       "      <td>140.0</td>\n",
       "      <td>83</td>\n",
       "      <td>2639</td>\n",
       "      <td>17.0</td>\n",
       "      <td>75</td>\n",
       "      <td>ford pinto</td>\n",
       "    </tr>\n",
       "    <tr>\n",
       "      <th>174</th>\n",
       "      <td>18.0</td>\n",
       "      <td>6</td>\n",
       "      <td>171.0</td>\n",
       "      <td>97</td>\n",
       "      <td>2984</td>\n",
       "      <td>14.5</td>\n",
       "      <td>75</td>\n",
       "      <td>ford pinto</td>\n",
       "    </tr>\n",
       "    <tr>\n",
       "      <th>206</th>\n",
       "      <td>26.5</td>\n",
       "      <td>4</td>\n",
       "      <td>140.0</td>\n",
       "      <td>72</td>\n",
       "      <td>2565</td>\n",
       "      <td>13.6</td>\n",
       "      <td>76</td>\n",
       "      <td>ford pinto</td>\n",
       "    </tr>\n",
       "  </tbody>\n",
       "</table>\n",
       "</div>"
      ],
      "text/plain": [
       "      mpg  cylinders  displacement horsepower  weight  acceleration  \\\n",
       "32   25.0          4          98.0         83    2046          19.0   \n",
       "112  19.0          4         122.0         85    2310          18.5   \n",
       "130  26.0          4         122.0         80    2451          16.5   \n",
       "168  23.0          4         140.0         83    2639          17.0   \n",
       "174  18.0          6         171.0         97    2984          14.5   \n",
       "206  26.5          4         140.0         72    2565          13.6   \n",
       "\n",
       "     model_year    car_name  \n",
       "32           71  ford pinto  \n",
       "112          73  ford pinto  \n",
       "130          74  ford pinto  \n",
       "168          75  ford pinto  \n",
       "174          75  ford pinto  \n",
       "206          76  ford pinto  "
      ]
     },
     "execution_count": 11,
     "metadata": {},
     "output_type": "execute_result"
    }
   ],
   "source": [
    "# Calculate the mean of Ford Pintos\n",
    "hp_df = pd.DataFrame(df[(df.car_name == 'ford pinto') & (df.horsepower != '?')])\n",
    "hp_df['horsepower'] = hp_df['horsepower'].astype(int)\n",
    "pinto_hp = int(hp_df['horsepower'].mean())\n",
    "print('\\nThe mean horsepower for similar vehicles is', pinto_hp, '\\n')\n",
    "\n",
    "# Replace the '?' with the mean\n",
    "i = 0\n",
    "for i in range(len(df)):\n",
    "    if (df['car_name'][i] == 'ford pinto') and (df['horsepower'][i] == '?'):\n",
    "        df['horsepower'][i] = pinto_hp\n",
    "\n",
    "# Verify that the '?' was replaced\n",
    "df[(df.car_name == 'ford pinto')]"
   ]
  },
  {
   "cell_type": "code",
   "execution_count": 12,
   "id": "ef1505e6",
   "metadata": {},
   "outputs": [
    {
     "name": "stdout",
     "output_type": "stream",
     "text": [
      "Current value for verification\n"
     ]
    },
    {
     "data": {
      "text/html": [
       "<div>\n",
       "<style scoped>\n",
       "    .dataframe tbody tr th:only-of-type {\n",
       "        vertical-align: middle;\n",
       "    }\n",
       "\n",
       "    .dataframe tbody tr th {\n",
       "        vertical-align: top;\n",
       "    }\n",
       "\n",
       "    .dataframe thead th {\n",
       "        text-align: right;\n",
       "    }\n",
       "</style>\n",
       "<table border=\"1\" class=\"dataframe\">\n",
       "  <thead>\n",
       "    <tr style=\"text-align: right;\">\n",
       "      <th></th>\n",
       "      <th>mpg</th>\n",
       "      <th>cylinders</th>\n",
       "      <th>displacement</th>\n",
       "      <th>horsepower</th>\n",
       "      <th>weight</th>\n",
       "      <th>acceleration</th>\n",
       "      <th>model_year</th>\n",
       "      <th>car_name</th>\n",
       "    </tr>\n",
       "  </thead>\n",
       "  <tbody>\n",
       "    <tr>\n",
       "      <th>126</th>\n",
       "      <td>21.0</td>\n",
       "      <td>6</td>\n",
       "      <td>200.0</td>\n",
       "      <td>?</td>\n",
       "      <td>2875</td>\n",
       "      <td>17.0</td>\n",
       "      <td>74</td>\n",
       "      <td>ford maverick</td>\n",
       "    </tr>\n",
       "  </tbody>\n",
       "</table>\n",
       "</div>"
      ],
      "text/plain": [
       "      mpg  cylinders  displacement horsepower  weight  acceleration  \\\n",
       "126  21.0          6         200.0          ?    2875          17.0   \n",
       "\n",
       "     model_year       car_name  \n",
       "126          74  ford maverick  "
      ]
     },
     "execution_count": 12,
     "metadata": {},
     "output_type": "execute_result"
    }
   ],
   "source": [
    "print('Current value for verification')\n",
    "df.loc[(df.car_name == 'ford maverick') & (df.horsepower == '?')]"
   ]
  },
  {
   "cell_type": "code",
   "execution_count": 13,
   "id": "5840613b",
   "metadata": {},
   "outputs": [
    {
     "name": "stdout",
     "output_type": "stream",
     "text": [
      "\n",
      "The mean horsepower for similar vehicles is 81 \n",
      "\n"
     ]
    },
    {
     "data": {
      "text/html": [
       "<div>\n",
       "<style scoped>\n",
       "    .dataframe tbody tr th:only-of-type {\n",
       "        vertical-align: middle;\n",
       "    }\n",
       "\n",
       "    .dataframe tbody tr th {\n",
       "        vertical-align: top;\n",
       "    }\n",
       "\n",
       "    .dataframe thead th {\n",
       "        text-align: right;\n",
       "    }\n",
       "</style>\n",
       "<table border=\"1\" class=\"dataframe\">\n",
       "  <thead>\n",
       "    <tr style=\"text-align: right;\">\n",
       "      <th></th>\n",
       "      <th>mpg</th>\n",
       "      <th>cylinders</th>\n",
       "      <th>displacement</th>\n",
       "      <th>horsepower</th>\n",
       "      <th>weight</th>\n",
       "      <th>acceleration</th>\n",
       "      <th>model_year</th>\n",
       "      <th>car_name</th>\n",
       "    </tr>\n",
       "  </thead>\n",
       "  <tbody>\n",
       "    <tr>\n",
       "      <th>17</th>\n",
       "      <td>21.0</td>\n",
       "      <td>6</td>\n",
       "      <td>200.0</td>\n",
       "      <td>85</td>\n",
       "      <td>2587</td>\n",
       "      <td>16.0</td>\n",
       "      <td>70</td>\n",
       "      <td>ford maverick</td>\n",
       "    </tr>\n",
       "    <tr>\n",
       "      <th>100</th>\n",
       "      <td>18.0</td>\n",
       "      <td>6</td>\n",
       "      <td>250.0</td>\n",
       "      <td>88</td>\n",
       "      <td>3021</td>\n",
       "      <td>16.5</td>\n",
       "      <td>73</td>\n",
       "      <td>ford maverick</td>\n",
       "    </tr>\n",
       "    <tr>\n",
       "      <th>126</th>\n",
       "      <td>21.0</td>\n",
       "      <td>6</td>\n",
       "      <td>200.0</td>\n",
       "      <td>81</td>\n",
       "      <td>2875</td>\n",
       "      <td>17.0</td>\n",
       "      <td>74</td>\n",
       "      <td>ford maverick</td>\n",
       "    </tr>\n",
       "    <tr>\n",
       "      <th>155</th>\n",
       "      <td>15.0</td>\n",
       "      <td>6</td>\n",
       "      <td>250.0</td>\n",
       "      <td>72</td>\n",
       "      <td>3158</td>\n",
       "      <td>19.5</td>\n",
       "      <td>75</td>\n",
       "      <td>ford maverick</td>\n",
       "    </tr>\n",
       "    <tr>\n",
       "      <th>193</th>\n",
       "      <td>24.0</td>\n",
       "      <td>6</td>\n",
       "      <td>200.0</td>\n",
       "      <td>81</td>\n",
       "      <td>3012</td>\n",
       "      <td>17.6</td>\n",
       "      <td>76</td>\n",
       "      <td>ford maverick</td>\n",
       "    </tr>\n",
       "  </tbody>\n",
       "</table>\n",
       "</div>"
      ],
      "text/plain": [
       "      mpg  cylinders  displacement horsepower  weight  acceleration  \\\n",
       "17   21.0          6         200.0         85    2587          16.0   \n",
       "100  18.0          6         250.0         88    3021          16.5   \n",
       "126  21.0          6         200.0         81    2875          17.0   \n",
       "155  15.0          6         250.0         72    3158          19.5   \n",
       "193  24.0          6         200.0         81    3012          17.6   \n",
       "\n",
       "     model_year       car_name  \n",
       "17           70  ford maverick  \n",
       "100          73  ford maverick  \n",
       "126          74  ford maverick  \n",
       "155          75  ford maverick  \n",
       "193          76  ford maverick  "
      ]
     },
     "execution_count": 13,
     "metadata": {},
     "output_type": "execute_result"
    }
   ],
   "source": [
    "# Calculate the mean of Ford Mavericks\n",
    "hp_df = pd.DataFrame(df[(df.car_name == 'ford maverick') & (df.horsepower != '?')])\n",
    "hp_df['horsepower'] = hp_df['horsepower'].astype(int)\n",
    "mav_hp = int(hp_df['horsepower'].mean())\n",
    "print('\\nThe mean horsepower for similar vehicles is', mav_hp, '\\n')\n",
    "\n",
    "# Replace the '?' with the mean\n",
    "i = 0\n",
    "for i in range(len(df)):\n",
    "    if (df['car_name'][i] == 'ford maverick') and (df['horsepower'][i] == '?'):\n",
    "        df['horsepower'][i] = mav_hp\n",
    "        \n",
    "# Verify that the '?' was replaced\n",
    "df[(df.car_name == 'ford maverick')]"
   ]
  },
  {
   "cell_type": "code",
   "execution_count": 14,
   "id": "6f47c951",
   "metadata": {},
   "outputs": [
    {
     "name": "stdout",
     "output_type": "stream",
     "text": [
      "Current value for verification\n"
     ]
    },
    {
     "data": {
      "text/html": [
       "<div>\n",
       "<style scoped>\n",
       "    .dataframe tbody tr th:only-of-type {\n",
       "        vertical-align: middle;\n",
       "    }\n",
       "\n",
       "    .dataframe tbody tr th {\n",
       "        vertical-align: top;\n",
       "    }\n",
       "\n",
       "    .dataframe thead th {\n",
       "        text-align: right;\n",
       "    }\n",
       "</style>\n",
       "<table border=\"1\" class=\"dataframe\">\n",
       "  <thead>\n",
       "    <tr style=\"text-align: right;\">\n",
       "      <th></th>\n",
       "      <th>mpg</th>\n",
       "      <th>cylinders</th>\n",
       "      <th>displacement</th>\n",
       "      <th>horsepower</th>\n",
       "      <th>weight</th>\n",
       "      <th>acceleration</th>\n",
       "      <th>model_year</th>\n",
       "      <th>car_name</th>\n",
       "    </tr>\n",
       "  </thead>\n",
       "  <tbody>\n",
       "    <tr>\n",
       "      <th>330</th>\n",
       "      <td>40.9</td>\n",
       "      <td>4</td>\n",
       "      <td>85.0</td>\n",
       "      <td>?</td>\n",
       "      <td>1835</td>\n",
       "      <td>17.3</td>\n",
       "      <td>80</td>\n",
       "      <td>renault lecar deluxe</td>\n",
       "    </tr>\n",
       "  </tbody>\n",
       "</table>\n",
       "</div>"
      ],
      "text/plain": [
       "      mpg  cylinders  displacement horsepower  weight  acceleration  \\\n",
       "330  40.9          4          85.0          ?    1835          17.3   \n",
       "\n",
       "     model_year              car_name  \n",
       "330          80  renault lecar deluxe  "
      ]
     },
     "execution_count": 14,
     "metadata": {},
     "output_type": "execute_result"
    }
   ],
   "source": [
    "print('Current value for verification')\n",
    "df.loc[(df.car_name == 'renault lecar deluxe') & (df.horsepower == '?')]"
   ]
  },
  {
   "cell_type": "code",
   "execution_count": 15,
   "id": "7b51b623",
   "metadata": {},
   "outputs": [
    {
     "name": "stdout",
     "output_type": "stream",
     "text": [
      "\n",
      "The mean horsepower for similar vehicles is 68 \n",
      "\n"
     ]
    },
    {
     "data": {
      "text/html": [
       "<div>\n",
       "<style scoped>\n",
       "    .dataframe tbody tr th:only-of-type {\n",
       "        vertical-align: middle;\n",
       "    }\n",
       "\n",
       "    .dataframe tbody tr th {\n",
       "        vertical-align: top;\n",
       "    }\n",
       "\n",
       "    .dataframe thead th {\n",
       "        text-align: right;\n",
       "    }\n",
       "</style>\n",
       "<table border=\"1\" class=\"dataframe\">\n",
       "  <thead>\n",
       "    <tr style=\"text-align: right;\">\n",
       "      <th></th>\n",
       "      <th>mpg</th>\n",
       "      <th>cylinders</th>\n",
       "      <th>displacement</th>\n",
       "      <th>horsepower</th>\n",
       "      <th>weight</th>\n",
       "      <th>acceleration</th>\n",
       "      <th>model_year</th>\n",
       "      <th>car_name</th>\n",
       "    </tr>\n",
       "  </thead>\n",
       "  <tbody>\n",
       "    <tr>\n",
       "      <th>330</th>\n",
       "      <td>40.9</td>\n",
       "      <td>4</td>\n",
       "      <td>85.0</td>\n",
       "      <td>68</td>\n",
       "      <td>1835</td>\n",
       "      <td>17.3</td>\n",
       "      <td>80</td>\n",
       "      <td>renault lecar deluxe</td>\n",
       "    </tr>\n",
       "  </tbody>\n",
       "</table>\n",
       "</div>"
      ],
      "text/plain": [
       "      mpg  cylinders  displacement horsepower  weight  acceleration  \\\n",
       "330  40.9          4          85.0         68    1835          17.3   \n",
       "\n",
       "     model_year              car_name  \n",
       "330          80  renault lecar deluxe  "
      ]
     },
     "execution_count": 15,
     "metadata": {},
     "output_type": "execute_result"
    }
   ],
   "source": [
    "# Renault lecar delux has only 1 row with '?' as the horsepower, taking the mean of cars with similar features\n",
    "hp_df = pd.DataFrame(df[(df.cylinders == 4) & (df.displacement == 85.0) & ((df.acceleration >= 16.8) & (df.acceleration <= 19.2)) & (df.horsepower != '?')])\n",
    "hp_df['horsepower'] = hp_df['horsepower'].astype(int)\n",
    "lecar_hp = int(hp_df['horsepower'].mean())\n",
    "print('\\nThe mean horsepower for similar vehicles is', lecar_hp, '\\n')\n",
    "\n",
    "# Replace the '?' with the mean\n",
    "i = 0\n",
    "for i in range(len(df)):\n",
    "    if (df['car_name'][i] == 'renault lecar deluxe') and (df['horsepower'][i] == '?'):\n",
    "        df['horsepower'][i] = lecar_hp\n",
    "        \n",
    "# Verify that the '?' was replaced       \n",
    "df[(df.car_name == 'renault lecar deluxe')]"
   ]
  },
  {
   "cell_type": "code",
   "execution_count": 16,
   "id": "abb45ec3",
   "metadata": {},
   "outputs": [
    {
     "name": "stdout",
     "output_type": "stream",
     "text": [
      "Current value for verification\n"
     ]
    },
    {
     "data": {
      "text/html": [
       "<div>\n",
       "<style scoped>\n",
       "    .dataframe tbody tr th:only-of-type {\n",
       "        vertical-align: middle;\n",
       "    }\n",
       "\n",
       "    .dataframe tbody tr th {\n",
       "        vertical-align: top;\n",
       "    }\n",
       "\n",
       "    .dataframe thead th {\n",
       "        text-align: right;\n",
       "    }\n",
       "</style>\n",
       "<table border=\"1\" class=\"dataframe\">\n",
       "  <thead>\n",
       "    <tr style=\"text-align: right;\">\n",
       "      <th></th>\n",
       "      <th>mpg</th>\n",
       "      <th>cylinders</th>\n",
       "      <th>displacement</th>\n",
       "      <th>horsepower</th>\n",
       "      <th>weight</th>\n",
       "      <th>acceleration</th>\n",
       "      <th>model_year</th>\n",
       "      <th>car_name</th>\n",
       "    </tr>\n",
       "  </thead>\n",
       "  <tbody>\n",
       "    <tr>\n",
       "      <th>336</th>\n",
       "      <td>23.6</td>\n",
       "      <td>4</td>\n",
       "      <td>140.0</td>\n",
       "      <td>?</td>\n",
       "      <td>2905</td>\n",
       "      <td>14.3</td>\n",
       "      <td>80</td>\n",
       "      <td>ford mustang cobra</td>\n",
       "    </tr>\n",
       "  </tbody>\n",
       "</table>\n",
       "</div>"
      ],
      "text/plain": [
       "      mpg  cylinders  displacement horsepower  weight  acceleration  \\\n",
       "336  23.6          4         140.0          ?    2905          14.3   \n",
       "\n",
       "     model_year            car_name  \n",
       "336          80  ford mustang cobra  "
      ]
     },
     "execution_count": 16,
     "metadata": {},
     "output_type": "execute_result"
    }
   ],
   "source": [
    "print('Current value for verification')\n",
    "df.loc[(df.car_name == 'ford mustang cobra') & (df.horsepower == '?')]"
   ]
  },
  {
   "cell_type": "code",
   "execution_count": 17,
   "id": "5b60125a",
   "metadata": {},
   "outputs": [
    {
     "name": "stdout",
     "output_type": "stream",
     "text": [
      "\n",
      "The mean horsepower for similar vehicles is 89 \n",
      "\n"
     ]
    },
    {
     "data": {
      "text/html": [
       "<div>\n",
       "<style scoped>\n",
       "    .dataframe tbody tr th:only-of-type {\n",
       "        vertical-align: middle;\n",
       "    }\n",
       "\n",
       "    .dataframe tbody tr th {\n",
       "        vertical-align: top;\n",
       "    }\n",
       "\n",
       "    .dataframe thead th {\n",
       "        text-align: right;\n",
       "    }\n",
       "</style>\n",
       "<table border=\"1\" class=\"dataframe\">\n",
       "  <thead>\n",
       "    <tr style=\"text-align: right;\">\n",
       "      <th></th>\n",
       "      <th>mpg</th>\n",
       "      <th>cylinders</th>\n",
       "      <th>displacement</th>\n",
       "      <th>horsepower</th>\n",
       "      <th>weight</th>\n",
       "      <th>acceleration</th>\n",
       "      <th>model_year</th>\n",
       "      <th>car_name</th>\n",
       "    </tr>\n",
       "  </thead>\n",
       "  <tbody>\n",
       "    <tr>\n",
       "      <th>336</th>\n",
       "      <td>23.6</td>\n",
       "      <td>4</td>\n",
       "      <td>140.0</td>\n",
       "      <td>89</td>\n",
       "      <td>2905</td>\n",
       "      <td>14.3</td>\n",
       "      <td>80</td>\n",
       "      <td>ford mustang cobra</td>\n",
       "    </tr>\n",
       "  </tbody>\n",
       "</table>\n",
       "</div>"
      ],
      "text/plain": [
       "      mpg  cylinders  displacement horsepower  weight  acceleration  \\\n",
       "336  23.6          4         140.0         89    2905          14.3   \n",
       "\n",
       "     model_year            car_name  \n",
       "336          80  ford mustang cobra  "
      ]
     },
     "execution_count": 17,
     "metadata": {},
     "output_type": "execute_result"
    }
   ],
   "source": [
    "# Ford mustang cobra has only 1 row with '?' as the horsepower, taking the mean of cars with similar features\n",
    "hp_df = pd.DataFrame(df[(df.cylinders == 4) & (df.displacement == 140.0) & ((df.acceleration >= 14.0) & (df.acceleration <= 16.0)) & (df.horsepower != '?')])\n",
    "hp_df['horsepower'] = hp_df['horsepower'].astype(int)\n",
    "cobra_hp = int(hp_df['horsepower'].mean())\n",
    "print('\\nThe mean horsepower for similar vehicles is', cobra_hp, '\\n')\n",
    "\n",
    "# Replace the '?' with the mean\n",
    "i = 0\n",
    "for i in range(len(df)):\n",
    "    if (df['car_name'][i] == 'ford mustang cobra') and (df['horsepower'][i] == '?'):\n",
    "        df['horsepower'][i] = cobra_hp\n",
    "        \n",
    "# Verify that the '?' was replaced\n",
    "df[(df.car_name == 'ford mustang cobra')]"
   ]
  },
  {
   "cell_type": "code",
   "execution_count": 18,
   "id": "19be7385",
   "metadata": {},
   "outputs": [
    {
     "name": "stdout",
     "output_type": "stream",
     "text": [
      "Current value for verification\n"
     ]
    },
    {
     "data": {
      "text/html": [
       "<div>\n",
       "<style scoped>\n",
       "    .dataframe tbody tr th:only-of-type {\n",
       "        vertical-align: middle;\n",
       "    }\n",
       "\n",
       "    .dataframe tbody tr th {\n",
       "        vertical-align: top;\n",
       "    }\n",
       "\n",
       "    .dataframe thead th {\n",
       "        text-align: right;\n",
       "    }\n",
       "</style>\n",
       "<table border=\"1\" class=\"dataframe\">\n",
       "  <thead>\n",
       "    <tr style=\"text-align: right;\">\n",
       "      <th></th>\n",
       "      <th>mpg</th>\n",
       "      <th>cylinders</th>\n",
       "      <th>displacement</th>\n",
       "      <th>horsepower</th>\n",
       "      <th>weight</th>\n",
       "      <th>acceleration</th>\n",
       "      <th>model_year</th>\n",
       "      <th>car_name</th>\n",
       "    </tr>\n",
       "  </thead>\n",
       "  <tbody>\n",
       "    <tr>\n",
       "      <th>354</th>\n",
       "      <td>34.5</td>\n",
       "      <td>4</td>\n",
       "      <td>100.0</td>\n",
       "      <td>?</td>\n",
       "      <td>2320</td>\n",
       "      <td>15.8</td>\n",
       "      <td>81</td>\n",
       "      <td>renault 18i</td>\n",
       "    </tr>\n",
       "  </tbody>\n",
       "</table>\n",
       "</div>"
      ],
      "text/plain": [
       "      mpg  cylinders  displacement horsepower  weight  acceleration  \\\n",
       "354  34.5          4         100.0          ?    2320          15.8   \n",
       "\n",
       "     model_year     car_name  \n",
       "354          81  renault 18i  "
      ]
     },
     "execution_count": 18,
     "metadata": {},
     "output_type": "execute_result"
    }
   ],
   "source": [
    "print('Current value for verification')\n",
    "df.loc[(df.car_name == 'renault 18i') & (df.horsepower == '?')]"
   ]
  },
  {
   "cell_type": "code",
   "execution_count": 19,
   "id": "8d219fc4",
   "metadata": {},
   "outputs": [
    {
     "name": "stdout",
     "output_type": "stream",
     "text": [
      "\n",
      "The mean horsepower for similar vehicles is 86 \n",
      "\n"
     ]
    },
    {
     "data": {
      "text/html": [
       "<div>\n",
       "<style scoped>\n",
       "    .dataframe tbody tr th:only-of-type {\n",
       "        vertical-align: middle;\n",
       "    }\n",
       "\n",
       "    .dataframe tbody tr th {\n",
       "        vertical-align: top;\n",
       "    }\n",
       "\n",
       "    .dataframe thead th {\n",
       "        text-align: right;\n",
       "    }\n",
       "</style>\n",
       "<table border=\"1\" class=\"dataframe\">\n",
       "  <thead>\n",
       "    <tr style=\"text-align: right;\">\n",
       "      <th></th>\n",
       "      <th>mpg</th>\n",
       "      <th>cylinders</th>\n",
       "      <th>displacement</th>\n",
       "      <th>horsepower</th>\n",
       "      <th>weight</th>\n",
       "      <th>acceleration</th>\n",
       "      <th>model_year</th>\n",
       "      <th>car_name</th>\n",
       "    </tr>\n",
       "  </thead>\n",
       "  <tbody>\n",
       "    <tr>\n",
       "      <th>354</th>\n",
       "      <td>34.5</td>\n",
       "      <td>4</td>\n",
       "      <td>100.0</td>\n",
       "      <td>86</td>\n",
       "      <td>2320</td>\n",
       "      <td>15.8</td>\n",
       "      <td>81</td>\n",
       "      <td>renault 18i</td>\n",
       "    </tr>\n",
       "  </tbody>\n",
       "</table>\n",
       "</div>"
      ],
      "text/plain": [
       "      mpg  cylinders  displacement horsepower  weight  acceleration  \\\n",
       "354  34.5          4         100.0         86    2320          15.8   \n",
       "\n",
       "     model_year     car_name  \n",
       "354          81  renault 18i  "
      ]
     },
     "execution_count": 19,
     "metadata": {},
     "output_type": "execute_result"
    }
   ],
   "source": [
    "# Renault 18i has only 1 row with '?' as the horsepower, taking the mean of cars with similar features\n",
    "hp_df = pd.DataFrame(df[((df.acceleration >= 15.0) & (df.acceleration <= 17.0)) & (df.cylinders == 4) & ((df.weight >= 2250) & (df.weight <= 2375)) & (df.horsepower != '?')])\n",
    "hp_df['horsepower'] = hp_df['horsepower'].astype(int)\n",
    "ren18i_hp = int(hp_df['horsepower'].mean())\n",
    "print('\\nThe mean horsepower for similar vehicles is', ren18i_hp, '\\n')\n",
    "\n",
    "# Replace the '?' with the mean\n",
    "i = 0\n",
    "for i in range(len(df)):\n",
    "    if (df['car_name'][i] == 'renault 18i') and (df['horsepower'][i] == '?'):\n",
    "        df['horsepower'][i] = ren18i_hp\n",
    "\n",
    "# Verify that the '?' was replaced\n",
    "df[(df.car_name == 'renault 18i')]"
   ]
  },
  {
   "cell_type": "code",
   "execution_count": 20,
   "id": "1d0c7638",
   "metadata": {},
   "outputs": [
    {
     "name": "stdout",
     "output_type": "stream",
     "text": [
      "Current value for verification\n"
     ]
    },
    {
     "data": {
      "text/html": [
       "<div>\n",
       "<style scoped>\n",
       "    .dataframe tbody tr th:only-of-type {\n",
       "        vertical-align: middle;\n",
       "    }\n",
       "\n",
       "    .dataframe tbody tr th {\n",
       "        vertical-align: top;\n",
       "    }\n",
       "\n",
       "    .dataframe thead th {\n",
       "        text-align: right;\n",
       "    }\n",
       "</style>\n",
       "<table border=\"1\" class=\"dataframe\">\n",
       "  <thead>\n",
       "    <tr style=\"text-align: right;\">\n",
       "      <th></th>\n",
       "      <th>mpg</th>\n",
       "      <th>cylinders</th>\n",
       "      <th>displacement</th>\n",
       "      <th>horsepower</th>\n",
       "      <th>weight</th>\n",
       "      <th>acceleration</th>\n",
       "      <th>model_year</th>\n",
       "      <th>car_name</th>\n",
       "    </tr>\n",
       "  </thead>\n",
       "  <tbody>\n",
       "    <tr>\n",
       "      <th>374</th>\n",
       "      <td>23.0</td>\n",
       "      <td>4</td>\n",
       "      <td>151.0</td>\n",
       "      <td>?</td>\n",
       "      <td>3035</td>\n",
       "      <td>20.5</td>\n",
       "      <td>82</td>\n",
       "      <td>amc concord dl</td>\n",
       "    </tr>\n",
       "  </tbody>\n",
       "</table>\n",
       "</div>"
      ],
      "text/plain": [
       "      mpg  cylinders  displacement horsepower  weight  acceleration  \\\n",
       "374  23.0          4         151.0          ?    3035          20.5   \n",
       "\n",
       "     model_year        car_name  \n",
       "374          82  amc concord dl  "
      ]
     },
     "execution_count": 20,
     "metadata": {},
     "output_type": "execute_result"
    }
   ],
   "source": [
    "print('Current value for verification')\n",
    "df.loc[(df.car_name == 'amc concord dl') & (df.horsepower == '?')]"
   ]
  },
  {
   "cell_type": "code",
   "execution_count": 21,
   "id": "7e4dc9f0",
   "metadata": {},
   "outputs": [
    {
     "name": "stdout",
     "output_type": "stream",
     "text": [
      "\n",
      "The mean horsepower for similar vehicles is 88 \n",
      "\n"
     ]
    },
    {
     "data": {
      "text/html": [
       "<div>\n",
       "<style scoped>\n",
       "    .dataframe tbody tr th:only-of-type {\n",
       "        vertical-align: middle;\n",
       "    }\n",
       "\n",
       "    .dataframe tbody tr th {\n",
       "        vertical-align: top;\n",
       "    }\n",
       "\n",
       "    .dataframe thead th {\n",
       "        text-align: right;\n",
       "    }\n",
       "</style>\n",
       "<table border=\"1\" class=\"dataframe\">\n",
       "  <thead>\n",
       "    <tr style=\"text-align: right;\">\n",
       "      <th></th>\n",
       "      <th>mpg</th>\n",
       "      <th>cylinders</th>\n",
       "      <th>displacement</th>\n",
       "      <th>horsepower</th>\n",
       "      <th>weight</th>\n",
       "      <th>acceleration</th>\n",
       "      <th>model_year</th>\n",
       "      <th>car_name</th>\n",
       "    </tr>\n",
       "  </thead>\n",
       "  <tbody>\n",
       "    <tr>\n",
       "      <th>374</th>\n",
       "      <td>23.0</td>\n",
       "      <td>4</td>\n",
       "      <td>151.0</td>\n",
       "      <td>88</td>\n",
       "      <td>3035</td>\n",
       "      <td>20.5</td>\n",
       "      <td>82</td>\n",
       "      <td>amc concord dl</td>\n",
       "    </tr>\n",
       "  </tbody>\n",
       "</table>\n",
       "</div>"
      ],
      "text/plain": [
       "      mpg  cylinders  displacement horsepower  weight  acceleration  \\\n",
       "374  23.0          4         151.0         88    3035          20.5   \n",
       "\n",
       "     model_year        car_name  \n",
       "374          82  amc concord dl  "
      ]
     },
     "execution_count": 21,
     "metadata": {},
     "output_type": "execute_result"
    }
   ],
   "source": [
    "# Amc concord dl has only 1 row with '?' as the horsepower, taking the mean of cars with similar features\n",
    "hp_df = pd.DataFrame(df[((df.acceleration >= 19.0) & (df.acceleration <= 21.0)) & (df.cylinders == 4) & ((df.weight >= 2975) & (df.weight <= 3085)) & (df.horsepower != '?')])\n",
    "hp_df['horsepower'] = hp_df['horsepower'].astype(int)\n",
    "amc_hp = int(hp_df['horsepower'].mean())\n",
    "print('\\nThe mean horsepower for similar vehicles is', amc_hp, '\\n')\n",
    "\n",
    "# Replace the '?' with the mean\n",
    "i = 0\n",
    "for i in range(len(df)):\n",
    "    if (df['car_name'][i] == 'amc concord dl') and (df['horsepower'][i] == '?'):\n",
    "        df['horsepower'][i] = amc_hp\n",
    "        \n",
    "# Verify that the '?' was replaced\n",
    "df[(df.car_name == 'amc concord dl')]\n"
   ]
  },
  {
   "cell_type": "markdown",
   "id": "5c1b5de2",
   "metadata": {},
   "source": [
    "<font size=3><b>Convert the horsepower column from str to int</b></font>"
   ]
  },
  {
   "cell_type": "code",
   "execution_count": 22,
   "id": "f51d1133",
   "metadata": {},
   "outputs": [],
   "source": [
    "# Convert the horsepower column from object to int\n",
    "df['horsepower'] = df['horsepower'].astype(int)"
   ]
  },
  {
   "cell_type": "code",
   "execution_count": 23,
   "id": "e190ad30",
   "metadata": {},
   "outputs": [
    {
     "data": {
      "text/plain": [
       "dtype('int32')"
      ]
     },
     "execution_count": 23,
     "metadata": {},
     "output_type": "execute_result"
    }
   ],
   "source": [
    "# check to make sure the horsepower variable is no longer an object\n",
    "df['horsepower'].dtypes"
   ]
  },
  {
   "cell_type": "markdown",
   "id": "2158a254",
   "metadata": {},
   "source": [
    "<font size=3><b>At this point, car_name is insignificant, dropping the column</b></font>"
   ]
  },
  {
   "cell_type": "code",
   "execution_count": 24,
   "id": "b0a38b9a",
   "metadata": {},
   "outputs": [],
   "source": [
    "df.drop(columns = \"car_name\", inplace = True)"
   ]
  },
  {
   "cell_type": "markdown",
   "id": "2ef91563",
   "metadata": {},
   "source": [
    "<font size=3><b>Check the Dtypes, make sure horsepower is not an object</b></font>"
   ]
  },
  {
   "cell_type": "code",
   "execution_count": 25,
   "id": "cab38066",
   "metadata": {},
   "outputs": [
    {
     "name": "stdout",
     "output_type": "stream",
     "text": [
      "<class 'pandas.core.frame.DataFrame'>\n",
      "RangeIndex: 398 entries, 0 to 397\n",
      "Data columns (total 7 columns):\n",
      " #   Column        Non-Null Count  Dtype  \n",
      "---  ------        --------------  -----  \n",
      " 0   mpg           398 non-null    float64\n",
      " 1   cylinders     398 non-null    int64  \n",
      " 2   displacement  398 non-null    float64\n",
      " 3   horsepower    398 non-null    int32  \n",
      " 4   weight        398 non-null    int64  \n",
      " 5   acceleration  398 non-null    float64\n",
      " 6   model_year    398 non-null    int64  \n",
      "dtypes: float64(3), int32(1), int64(3)\n",
      "memory usage: 20.3 KB\n"
     ]
    }
   ],
   "source": [
    "df.info()"
   ]
  },
  {
   "cell_type": "markdown",
   "id": "10ebca90",
   "metadata": {},
   "source": [
    "<div class=\"alert alert-block alert-info\">\n",
    "    <font size=4 color=black><b>Observations:</b></font><br>\n",
    "    <ul>\n",
    "        <li>My target, dependent variable is mpg, all other variables are indenpendent variables</li>\n",
    "        <li>All columns are now numeric</li>\n",
    "    </ul>\n",
    "</div>"
   ]
  },
  {
   "cell_type": "markdown",
   "id": "23663b72",
   "metadata": {},
   "source": [
    "<div class=\"alert alert-block alert-danger\">\n",
    "    <font color='black' size=5><b>Exploratory Data Analysis</b></font>\n",
    "</div>"
   ]
  },
  {
   "cell_type": "markdown",
   "id": "e265c023",
   "metadata": {},
   "source": [
    "<font size=3 color=black><b>Univariate analysis of numerical columns</b>"
   ]
  },
  {
   "cell_type": "code",
   "execution_count": 26,
   "id": "c1c7a30e",
   "metadata": {},
   "outputs": [
    {
     "data": {
      "text/html": [
       "<div>\n",
       "<style scoped>\n",
       "    .dataframe tbody tr th:only-of-type {\n",
       "        vertical-align: middle;\n",
       "    }\n",
       "\n",
       "    .dataframe tbody tr th {\n",
       "        vertical-align: top;\n",
       "    }\n",
       "\n",
       "    .dataframe thead th {\n",
       "        text-align: right;\n",
       "    }\n",
       "</style>\n",
       "<table border=\"1\" class=\"dataframe\">\n",
       "  <thead>\n",
       "    <tr style=\"text-align: right;\">\n",
       "      <th></th>\n",
       "      <th>count</th>\n",
       "      <th>mean</th>\n",
       "      <th>std</th>\n",
       "      <th>min</th>\n",
       "      <th>25%</th>\n",
       "      <th>50%</th>\n",
       "      <th>75%</th>\n",
       "      <th>max</th>\n",
       "    </tr>\n",
       "  </thead>\n",
       "  <tbody>\n",
       "    <tr>\n",
       "      <th>mpg</th>\n",
       "      <td>398.0</td>\n",
       "      <td>23.514573</td>\n",
       "      <td>7.815984</td>\n",
       "      <td>9.0</td>\n",
       "      <td>17.500</td>\n",
       "      <td>23.0</td>\n",
       "      <td>29.000</td>\n",
       "      <td>46.6</td>\n",
       "    </tr>\n",
       "    <tr>\n",
       "      <th>cylinders</th>\n",
       "      <td>398.0</td>\n",
       "      <td>5.454774</td>\n",
       "      <td>1.701004</td>\n",
       "      <td>3.0</td>\n",
       "      <td>4.000</td>\n",
       "      <td>4.0</td>\n",
       "      <td>8.000</td>\n",
       "      <td>8.0</td>\n",
       "    </tr>\n",
       "    <tr>\n",
       "      <th>displacement</th>\n",
       "      <td>398.0</td>\n",
       "      <td>193.425879</td>\n",
       "      <td>104.269838</td>\n",
       "      <td>68.0</td>\n",
       "      <td>104.250</td>\n",
       "      <td>148.5</td>\n",
       "      <td>262.000</td>\n",
       "      <td>455.0</td>\n",
       "    </tr>\n",
       "    <tr>\n",
       "      <th>horsepower</th>\n",
       "      <td>398.0</td>\n",
       "      <td>104.138191</td>\n",
       "      <td>38.302896</td>\n",
       "      <td>46.0</td>\n",
       "      <td>75.250</td>\n",
       "      <td>92.0</td>\n",
       "      <td>125.000</td>\n",
       "      <td>230.0</td>\n",
       "    </tr>\n",
       "    <tr>\n",
       "      <th>weight</th>\n",
       "      <td>398.0</td>\n",
       "      <td>2970.424623</td>\n",
       "      <td>846.841774</td>\n",
       "      <td>1613.0</td>\n",
       "      <td>2223.750</td>\n",
       "      <td>2803.5</td>\n",
       "      <td>3608.000</td>\n",
       "      <td>5140.0</td>\n",
       "    </tr>\n",
       "    <tr>\n",
       "      <th>acceleration</th>\n",
       "      <td>398.0</td>\n",
       "      <td>15.568090</td>\n",
       "      <td>2.757689</td>\n",
       "      <td>8.0</td>\n",
       "      <td>13.825</td>\n",
       "      <td>15.5</td>\n",
       "      <td>17.175</td>\n",
       "      <td>24.8</td>\n",
       "    </tr>\n",
       "    <tr>\n",
       "      <th>model_year</th>\n",
       "      <td>398.0</td>\n",
       "      <td>76.010050</td>\n",
       "      <td>3.697627</td>\n",
       "      <td>70.0</td>\n",
       "      <td>73.000</td>\n",
       "      <td>76.0</td>\n",
       "      <td>79.000</td>\n",
       "      <td>82.0</td>\n",
       "    </tr>\n",
       "  </tbody>\n",
       "</table>\n",
       "</div>"
      ],
      "text/plain": [
       "              count         mean         std     min       25%     50%  \\\n",
       "mpg           398.0    23.514573    7.815984     9.0    17.500    23.0   \n",
       "cylinders     398.0     5.454774    1.701004     3.0     4.000     4.0   \n",
       "displacement  398.0   193.425879  104.269838    68.0   104.250   148.5   \n",
       "horsepower    398.0   104.138191   38.302896    46.0    75.250    92.0   \n",
       "weight        398.0  2970.424623  846.841774  1613.0  2223.750  2803.5   \n",
       "acceleration  398.0    15.568090    2.757689     8.0    13.825    15.5   \n",
       "model_year    398.0    76.010050    3.697627    70.0    73.000    76.0   \n",
       "\n",
       "                   75%     max  \n",
       "mpg             29.000    46.6  \n",
       "cylinders        8.000     8.0  \n",
       "displacement   262.000   455.0  \n",
       "horsepower     125.000   230.0  \n",
       "weight        3608.000  5140.0  \n",
       "acceleration    17.175    24.8  \n",
       "model_year      79.000    82.0  "
      ]
     },
     "execution_count": 26,
     "metadata": {},
     "output_type": "execute_result"
    }
   ],
   "source": [
    "df.describe().T"
   ]
  },
  {
   "cell_type": "markdown",
   "id": "7c3aadce",
   "metadata": {},
   "source": [
    "<div class=\"alert alert-block alert-info\">\n",
    "    <font size=4 color=black><b>Observations:</b></font><br>\n",
    "    <ul>\n",
    "        <li>The average car year is 1976</li>\n",
    "        <li>Weight, horsepower, and displacement, mpg max is significantly more that 75% of the respective data indicating a right skew and may have outliers</li>\n",
    "        <li>The average number of <b>engine cyclinders is 5</b></li>\n",
    "    </ul>\n",
    "</div>"
   ]
  },
  {
   "cell_type": "markdown",
   "id": "4aebb007",
   "metadata": {},
   "source": [
    "<font size=3 color=black><b>Checking the distribution and outliers for each column in the data</b>"
   ]
  },
  {
   "cell_type": "code",
   "execution_count": 27,
   "id": "a1431448",
   "metadata": {
    "scrolled": false
   },
   "outputs": [
    {
     "name": "stdout",
     "output_type": "stream",
     "text": [
      "mpg\n",
      "Skew : 0.46\n"
     ]
    },
    {
     "data": {
      "image/png": "[encoded data removed]",
      "text/plain": [
       "<Figure size 1080x288 with 2 Axes>"
      ]
     },
     "metadata": {
      "needs_background": "light"
     },
     "output_type": "display_data"
    },
    {
     "name": "stdout",
     "output_type": "stream",
     "text": [
      "cylinders\n",
      "Skew : 0.53\n"
     ]
    },
    {
     "data": {
      "image/png": "[encoded data removed]",
      "text/plain": [
       "<Figure size 1080x288 with 2 Axes>"
      ]
     },
     "metadata": {
      "needs_background": "light"
     },
     "output_type": "display_data"
    },
    {
     "name": "stdout",
     "output_type": "stream",
     "text": [
      "displacement\n",
      "Skew : 0.72\n"
     ]
    },
    {
     "data": {
      "image/png": "[encoded data removed]",
      "text/plain": [
       "<Figure size 1080x288 with 2 Axes>"
      ]
     },
     "metadata": {
      "needs_background": "light"
     },
     "output_type": "display_data"
    },
    {
     "name": "stdout",
     "output_type": "stream",
     "text": [
      "horsepower\n",
      "Skew : 1.11\n"
     ]
    },
    {
     "data": {
      "image/png": "[encoded data removed]",
      "text/plain": [
       "<Figure size 1080x288 with 2 Axes>"
      ]
     },
     "metadata": {
      "needs_background": "light"
     },
     "output_type": "display_data"
    },
    {
     "name": "stdout",
     "output_type": "stream",
     "text": [
      "weight\n",
      "Skew : 0.53\n"
     ]
    },
    {
     "data": {
      "image/png": "[encoded data removed]",
      "text/plain": [
       "<Figure size 1080x288 with 2 Axes>"
      ]
     },
     "metadata": {
      "needs_background": "light"
     },
     "output_type": "display_data"
    },
    {
     "name": "stdout",
     "output_type": "stream",
     "text": [
      "acceleration\n",
      "Skew : 0.28\n"
     ]
    },
    {
     "data": {
      "image/png": "[encoded data removed]",
      "text/plain": [
       "<Figure size 1080x288 with 2 Axes>"
      ]
     },
     "metadata": {
      "needs_background": "light"
     },
     "output_type": "display_data"
    },
    {
     "name": "stdout",
     "output_type": "stream",
     "text": [
      "model_year\n",
      "Skew : 0.01\n"
     ]
    },
    {
     "data": {
      "image/png": "[encoded data removed]",
      "text/plain": [
       "<Figure size 1080x288 with 2 Axes>"
      ]
     },
     "metadata": {
      "needs_background": "light"
     },
     "output_type": "display_data"
    }
   ],
   "source": [
    "cont_cols = df.columns\n",
    "for col in cont_cols:\n",
    "    print(col)\n",
    "    print('Skew :',round(df[col].skew(),2))\n",
    "    plt.figure(figsize = (15, 4))\n",
    "    plt.subplot(1, 2, 1)\n",
    "    df[col].hist(bins = 10, grid = False)\n",
    "    plt.ylabel('count')\n",
    "    plt.subplot(1, 2, 2)\n",
    "    sns.boxplot(x = df[col])\n",
    "    plt.show()"
   ]
  },
  {
   "cell_type": "markdown",
   "id": "276a7396",
   "metadata": {},
   "source": [
    "<div class=\"alert alert-block alert-info\">\n",
    "    <font size=4 color=black><b>Observations:</b></font><br>\n",
    "    <ul>\n",
    "        <li>4-cyclinder have the highest count of data points.</li>\n",
    "        <li>Acceleration is close to a normal standard distribution, but has outliers.</li>\n",
    "        <li>The distribution plots show that mpg, displacement, horsepower, and weight are right-skewed</li>\n",
    "        <li>Evidence from boxplots shot there are outliers for acceleration, horsepower, and mpg.</li>\n",
    "        <li>mgp has only one right-side outlier</li>\n",
    "        <li>Horsepower has a moderate right-skew \n",
    "    </ul>\n",
    "</div>"
   ]
  },
  {
   "cell_type": "markdown",
   "id": "0f84c713",
   "metadata": {},
   "source": [
    "<font size=3 color=black><b>Looking for relationships</b>"
   ]
  },
  {
   "cell_type": "code",
   "execution_count": 28,
   "id": "5a1c4e2f",
   "metadata": {},
   "outputs": [
    {
     "data": {
      "image/png": "[encoded data removed]",
      "text/plain": [
       "<Figure size 1080x720 with 2 Axes>"
      ]
     },
     "metadata": {
      "needs_background": "light"
     },
     "output_type": "display_data"
    }
   ],
   "source": [
    "plt.figure(figsize = (15, 10))\n",
    "sns.heatmap(df.corr(), annot = True, fmt = '0.2f')\n",
    "plt.show()"
   ]
  },
  {
   "cell_type": "code",
   "execution_count": 29,
   "id": "94b32b55",
   "metadata": {},
   "outputs": [
    {
     "data": {
      "image/png": "[encoded data removed]",
      "text/plain": [
       "<Figure size 1080x360 with 6 Axes>"
      ]
     },
     "metadata": {
      "needs_background": "light"
     },
     "output_type": "display_data"
    }
   ],
   "source": [
    "fig, axes = plt.subplots(1, 6, figsize = (15, 5))\n",
    "  \n",
    "fig.suptitle('Bi-variate scatterplot for all variables with dependent variable, MPG')\n",
    "sns.scatterplot(x = 'cylinders', y = 'mpg', data = df, ax = axes[0]);\n",
    "sns.scatterplot(x = 'displacement', y = 'mpg', data = df, ax = axes[1]);\n",
    "sns.scatterplot(x = 'horsepower', y = 'mpg', data = df, ax = axes[2]);\n",
    "sns.scatterplot(x = 'weight', y = 'mpg', data = df, ax = axes[3]);\n",
    "sns.scatterplot(x = 'acceleration', y = 'mpg', data = df, ax = axes[4]);\n",
    "sns.scatterplot(x = 'model_year', y = 'mpg', data = df, ax = axes[5]);"
   ]
  },
  {
   "cell_type": "code",
   "execution_count": 30,
   "id": "8a643e36",
   "metadata": {},
   "outputs": [
    {
     "data": {
      "image/png": "[encoded data removed]",
      "text/plain": [
       "<Figure size 1080x360 with 6 Axes>"
      ]
     },
     "metadata": {
      "needs_background": "light"
     },
     "output_type": "display_data"
    }
   ],
   "source": [
    "fig, axes = plt.subplots(1, 6, figsize = (15, 5))\n",
    "  \n",
    "fig.suptitle('Bi-variate scatterplot for all variables with dependent variable, model year')\n",
    "sns.scatterplot(x = 'cylinders', y = 'model_year', data = df, ax = axes[0]);\n",
    "sns.scatterplot(x = 'displacement', y = 'model_year', data = df, ax = axes[1]);\n",
    "sns.scatterplot(x = 'horsepower', y = 'model_year', data = df, ax = axes[2]);\n",
    "sns.scatterplot(x = 'weight', y = 'model_year', data = df, ax = axes[3]);\n",
    "sns.scatterplot(x = 'acceleration', y = 'model_year', data = df, ax = axes[4]);\n",
    "sns.scatterplot(x = 'mpg', y = 'model_year', data = df, ax = axes[5]);"
   ]
  },
  {
   "cell_type": "markdown",
   "id": "edede457",
   "metadata": {},
   "source": [
    "<div class=\"alert alert-block alert-info\">\n",
    "    <font size=4 color=black><b>Observations:</b></font><br>\n",
    "    <ul>\n",
    "        <li>Cylinders, displacement, horsepower, and weight <b>negatively correlate with mpg</b></li>\n",
    "        <li>Model_year and accerleration have a positive correlation on mpg</li>\n",
    "        <li>Need to further explore why model year and acceleration positively correltate with mpg outside of our provided independent variables.</li>\n",
    "    </ul>\n",
    "</div>"
   ]
  },
  {
   "cell_type": "markdown",
   "id": "8d6b292a",
   "metadata": {},
   "source": [
    "<font size=3 color=black><b>Let's look at model_year impact on mpg, and acceleration</b>"
   ]
  },
  {
   "cell_type": "code",
   "execution_count": 31,
   "id": "bf81ed2c",
   "metadata": {},
   "outputs": [
    {
     "data": {
      "text/html": [
       "<div>\n",
       "<style scoped>\n",
       "    .dataframe tbody tr th:only-of-type {\n",
       "        vertical-align: middle;\n",
       "    }\n",
       "\n",
       "    .dataframe tbody tr th {\n",
       "        vertical-align: top;\n",
       "    }\n",
       "\n",
       "    .dataframe thead tr th {\n",
       "        text-align: left;\n",
       "    }\n",
       "\n",
       "    .dataframe thead tr:last-of-type th {\n",
       "        text-align: right;\n",
       "    }\n",
       "</style>\n",
       "<table border=\"1\" class=\"dataframe\">\n",
       "  <thead>\n",
       "    <tr>\n",
       "      <th></th>\n",
       "      <th>mpg</th>\n",
       "      <th>acceleration</th>\n",
       "      <th>displacement</th>\n",
       "      <th>weight</th>\n",
       "    </tr>\n",
       "    <tr>\n",
       "      <th></th>\n",
       "      <th>mean</th>\n",
       "      <th>mean</th>\n",
       "      <th>mean</th>\n",
       "      <th>mean</th>\n",
       "    </tr>\n",
       "    <tr>\n",
       "      <th>model_year</th>\n",
       "      <th></th>\n",
       "      <th></th>\n",
       "      <th></th>\n",
       "      <th></th>\n",
       "    </tr>\n",
       "  </thead>\n",
       "  <tbody>\n",
       "    <tr>\n",
       "      <th>70</th>\n",
       "      <td>17.689655</td>\n",
       "      <td>12.948276</td>\n",
       "      <td>281.413793</td>\n",
       "      <td>3372.793103</td>\n",
       "    </tr>\n",
       "    <tr>\n",
       "      <th>71</th>\n",
       "      <td>21.250000</td>\n",
       "      <td>15.142857</td>\n",
       "      <td>209.750000</td>\n",
       "      <td>2995.428571</td>\n",
       "    </tr>\n",
       "    <tr>\n",
       "      <th>72</th>\n",
       "      <td>18.714286</td>\n",
       "      <td>15.125000</td>\n",
       "      <td>218.375000</td>\n",
       "      <td>3237.714286</td>\n",
       "    </tr>\n",
       "    <tr>\n",
       "      <th>73</th>\n",
       "      <td>17.100000</td>\n",
       "      <td>14.312500</td>\n",
       "      <td>256.875000</td>\n",
       "      <td>3419.025000</td>\n",
       "    </tr>\n",
       "    <tr>\n",
       "      <th>74</th>\n",
       "      <td>22.703704</td>\n",
       "      <td>16.203704</td>\n",
       "      <td>171.740741</td>\n",
       "      <td>2877.925926</td>\n",
       "    </tr>\n",
       "    <tr>\n",
       "      <th>75</th>\n",
       "      <td>20.266667</td>\n",
       "      <td>16.050000</td>\n",
       "      <td>205.533333</td>\n",
       "      <td>3176.800000</td>\n",
       "    </tr>\n",
       "    <tr>\n",
       "      <th>76</th>\n",
       "      <td>21.573529</td>\n",
       "      <td>15.941176</td>\n",
       "      <td>197.794118</td>\n",
       "      <td>3078.735294</td>\n",
       "    </tr>\n",
       "    <tr>\n",
       "      <th>77</th>\n",
       "      <td>23.375000</td>\n",
       "      <td>15.435714</td>\n",
       "      <td>191.392857</td>\n",
       "      <td>2997.357143</td>\n",
       "    </tr>\n",
       "    <tr>\n",
       "      <th>78</th>\n",
       "      <td>24.061111</td>\n",
       "      <td>15.805556</td>\n",
       "      <td>177.805556</td>\n",
       "      <td>2861.805556</td>\n",
       "    </tr>\n",
       "    <tr>\n",
       "      <th>79</th>\n",
       "      <td>25.093103</td>\n",
       "      <td>15.813793</td>\n",
       "      <td>206.689655</td>\n",
       "      <td>3055.344828</td>\n",
       "    </tr>\n",
       "    <tr>\n",
       "      <th>80</th>\n",
       "      <td>33.696552</td>\n",
       "      <td>16.934483</td>\n",
       "      <td>115.827586</td>\n",
       "      <td>2436.655172</td>\n",
       "    </tr>\n",
       "    <tr>\n",
       "      <th>81</th>\n",
       "      <td>30.334483</td>\n",
       "      <td>16.306897</td>\n",
       "      <td>135.310345</td>\n",
       "      <td>2522.931034</td>\n",
       "    </tr>\n",
       "    <tr>\n",
       "      <th>82</th>\n",
       "      <td>31.709677</td>\n",
       "      <td>16.638710</td>\n",
       "      <td>128.870968</td>\n",
       "      <td>2453.548387</td>\n",
       "    </tr>\n",
       "  </tbody>\n",
       "</table>\n",
       "</div>"
      ],
      "text/plain": [
       "                  mpg acceleration displacement       weight\n",
       "                 mean         mean         mean         mean\n",
       "model_year                                                  \n",
       "70          17.689655    12.948276   281.413793  3372.793103\n",
       "71          21.250000    15.142857   209.750000  2995.428571\n",
       "72          18.714286    15.125000   218.375000  3237.714286\n",
       "73          17.100000    14.312500   256.875000  3419.025000\n",
       "74          22.703704    16.203704   171.740741  2877.925926\n",
       "75          20.266667    16.050000   205.533333  3176.800000\n",
       "76          21.573529    15.941176   197.794118  3078.735294\n",
       "77          23.375000    15.435714   191.392857  2997.357143\n",
       "78          24.061111    15.805556   177.805556  2861.805556\n",
       "79          25.093103    15.813793   206.689655  3055.344828\n",
       "80          33.696552    16.934483   115.827586  2436.655172\n",
       "81          30.334483    16.306897   135.310345  2522.931034\n",
       "82          31.709677    16.638710   128.870968  2453.548387"
      ]
     },
     "execution_count": 31,
     "metadata": {},
     "output_type": "execute_result"
    }
   ],
   "source": [
    "df.groupby(['model_year']).agg(['mean'])[['mpg', 'acceleration', 'displacement', 'weight']]"
   ]
  },
  {
   "cell_type": "code",
   "execution_count": 32,
   "id": "f371a9e5",
   "metadata": {},
   "outputs": [
    {
     "data": {
      "image/png": "[encoded data removed]",
      "text/plain": [
       "<Figure size 432x288 with 1 Axes>"
      ]
     },
     "metadata": {},
     "output_type": "display_data"
    }
   ],
   "source": [
    "sns.set_theme(style='darkgrid', palette='deep', font='sans-serif', font_scale=1.25, color_codes=True, rc=None)\n",
    "ax = sns.barplot(x='model_year', y='mpg', data=df)"
   ]
  },
  {
   "cell_type": "code",
   "execution_count": 33,
   "id": "d9fb2eed",
   "metadata": {},
   "outputs": [
    {
     "data": {
      "image/png": "[encoded data removed]",
      "text/plain": [
       "<Figure size 432x288 with 1 Axes>"
      ]
     },
     "metadata": {},
     "output_type": "display_data"
    }
   ],
   "source": [
    "sns.set_theme(style='darkgrid', palette='deep', font='sans-serif', font_scale=1.25, color_codes=True, rc=None)\n",
    "ax = sns.barplot(x='model_year', y='acceleration', data=df)"
   ]
  },
  {
   "cell_type": "markdown",
   "id": "93747d57",
   "metadata": {},
   "source": [
    "<div class=\"alert alert-block alert-info\">\n",
    "    <font size=4 color=black><b>Observations:</b></font><br>\n",
    "    <ul>\n",
    "        <li>The data suggests that car manufactures made improvement to a cars performance with respect to mpg from older cars to newer cars</li>\n",
    "        <li>There was a big change in 1980 where the mean mpg increased from 25 to 34 miles per gallon</li>\n",
    "        <li>There were significant drops in displacement in weight, meaning the car can accelerate faster using less horsepower.        \n",
    "    </ul>\n",
    "</div>"
   ]
  },
  {
   "cell_type": "markdown",
   "id": "0ba48b5e",
   "metadata": {},
   "source": [
    "<div class=\"alert alert-block alert-danger\">\n",
    "    <font color='black' size=5><b>Principal Component Analysis</b></font>\n",
    "</div>"
   ]
  },
  {
   "cell_type": "code",
   "execution_count": 34,
   "id": "df6cca81",
   "metadata": {},
   "outputs": [],
   "source": [
    "scaler = StandardScaler()\n",
    "df_scaled = pd.DataFrame(scaler.fit_transform(df), columns = df.columns)"
   ]
  },
  {
   "cell_type": "code",
   "execution_count": 35,
   "id": "d0f5210b",
   "metadata": {},
   "outputs": [
    {
     "data": {
      "text/html": [
       "<div>\n",
       "<style scoped>\n",
       "    .dataframe tbody tr th:only-of-type {\n",
       "        vertical-align: middle;\n",
       "    }\n",
       "\n",
       "    .dataframe tbody tr th {\n",
       "        vertical-align: top;\n",
       "    }\n",
       "\n",
       "    .dataframe thead th {\n",
       "        text-align: right;\n",
       "    }\n",
       "</style>\n",
       "<table border=\"1\" class=\"dataframe\">\n",
       "  <thead>\n",
       "    <tr style=\"text-align: right;\">\n",
       "      <th></th>\n",
       "      <th>mpg</th>\n",
       "      <th>cylinders</th>\n",
       "      <th>displacement</th>\n",
       "      <th>horsepower</th>\n",
       "      <th>weight</th>\n",
       "      <th>acceleration</th>\n",
       "      <th>model_year</th>\n",
       "    </tr>\n",
       "  </thead>\n",
       "  <tbody>\n",
       "    <tr>\n",
       "      <th>0</th>\n",
       "      <td>-0.706439</td>\n",
       "      <td>1.498191</td>\n",
       "      <td>1.090604</td>\n",
       "      <td>0.676042</td>\n",
       "      <td>0.630870</td>\n",
       "      <td>-1.295498</td>\n",
       "      <td>-1.627426</td>\n",
       "    </tr>\n",
       "    <tr>\n",
       "      <th>1</th>\n",
       "      <td>-1.090751</td>\n",
       "      <td>1.498191</td>\n",
       "      <td>1.503514</td>\n",
       "      <td>1.590961</td>\n",
       "      <td>0.854333</td>\n",
       "      <td>-1.477038</td>\n",
       "      <td>-1.627426</td>\n",
       "    </tr>\n",
       "    <tr>\n",
       "      <th>2</th>\n",
       "      <td>-0.706439</td>\n",
       "      <td>1.498191</td>\n",
       "      <td>1.196232</td>\n",
       "      <td>1.198853</td>\n",
       "      <td>0.550470</td>\n",
       "      <td>-1.658577</td>\n",
       "      <td>-1.627426</td>\n",
       "    </tr>\n",
       "    <tr>\n",
       "      <th>3</th>\n",
       "      <td>-0.962647</td>\n",
       "      <td>1.498191</td>\n",
       "      <td>1.061796</td>\n",
       "      <td>1.198853</td>\n",
       "      <td>0.546923</td>\n",
       "      <td>-1.295498</td>\n",
       "      <td>-1.627426</td>\n",
       "    </tr>\n",
       "    <tr>\n",
       "      <th>4</th>\n",
       "      <td>-0.834543</td>\n",
       "      <td>1.498191</td>\n",
       "      <td>1.042591</td>\n",
       "      <td>0.937447</td>\n",
       "      <td>0.565841</td>\n",
       "      <td>-1.840117</td>\n",
       "      <td>-1.627426</td>\n",
       "    </tr>\n",
       "  </tbody>\n",
       "</table>\n",
       "</div>"
      ],
      "text/plain": [
       "        mpg  cylinders  displacement  horsepower    weight  acceleration  \\\n",
       "0 -0.706439   1.498191      1.090604    0.676042  0.630870     -1.295498   \n",
       "1 -1.090751   1.498191      1.503514    1.590961  0.854333     -1.477038   \n",
       "2 -0.706439   1.498191      1.196232    1.198853  0.550470     -1.658577   \n",
       "3 -0.962647   1.498191      1.061796    1.198853  0.546923     -1.295498   \n",
       "4 -0.834543   1.498191      1.042591    0.937447  0.565841     -1.840117   \n",
       "\n",
       "   model_year  \n",
       "0   -1.627426  \n",
       "1   -1.627426  \n",
       "2   -1.627426  \n",
       "3   -1.627426  \n",
       "4   -1.627426  "
      ]
     },
     "execution_count": 35,
     "metadata": {},
     "output_type": "execute_result"
    }
   ],
   "source": [
    "df_scaled.head()"
   ]
  },
  {
   "cell_type": "code",
   "execution_count": 36,
   "id": "c0a529aa",
   "metadata": {},
   "outputs": [],
   "source": [
    "# Defining the number of principal components to generate\n",
    "n = df_scaled.shape[1]\n",
    "\n",
    "# Finding principal components for the data\n",
    "pca1 = PCA(n_components = n, random_state = 1)\n",
    "df_pca = pd.DataFrame(pca1.fit_transform(df_scaled))\n",
    "\n",
    "# The percentage of variance explained by each principal component\n",
    "exp_var = pca1.explained_variance_ratio_"
   ]
  },
  {
   "cell_type": "code",
   "execution_count": 37,
   "id": "84c5dfa0",
   "metadata": {},
   "outputs": [
    {
     "data": {
      "image/png": "[encoded data removed]",
      "text/plain": [
       "<Figure size 720x720 with 1 Axes>"
      ]
     },
     "metadata": {},
     "output_type": "display_data"
    }
   ],
   "source": [
    "# Plotting the explained cumulative variance by principal components\n",
    "plt.figure(figsize = (10, 10))\n",
    "plt.plot(range(1, 8), pca1.explained_variance_ratio_.cumsum(), marker = 'o', linestyle = '--')\n",
    "plt.title(\"Explained Variances by Components\")\n",
    "plt.xlabel(\"Number of Components\")\n",
    "plt.ylabel(\"Cumulative Explained Variance\")\n",
    "plt.show()"
   ]
  },
  {
   "cell_type": "code",
   "execution_count": 38,
   "id": "4d6b18e6",
   "metadata": {},
   "outputs": [
    {
     "name": "stdout",
     "output_type": "stream",
     "text": [
      "Number of PCs that explain at least 80% variance: 2\n"
     ]
    }
   ],
   "source": [
    "# Finding the least number of components that can explain more than 70% variance\n",
    "sum = 0\n",
    "\n",
    "for ix, i in enumerate(exp_var):\n",
    "    sum = sum + i\n",
    "    if(sum>0.80):\n",
    "        print(\"Number of PCs that explain at least 80% variance:\", ix + 1)\n",
    "        break"
   ]
  },
  {
   "cell_type": "markdown",
   "id": "b126cd87",
   "metadata": {},
   "source": [
    "<div class=\"alert alert-block alert-info\">\n",
    "    <font size=4 color=black><b>Observations:</b></font><br>\n",
    "    <ul>\n",
    "        <li>Using PCA, the features were <b>reduced from 7 to two pricipal components</b>.</li>\n",
    "        <li><b>The first two components explain approximately 80% of the original variance.</b></li>\n",
    "        <li>That is approximately a <b>71% reduction in the dimensionality</b> of the dataset with <b>only a loss of 20% in variance</b>.</li>\n",
    "    </ul>\n",
    "</div>"
   ]
  },
  {
   "cell_type": "markdown",
   "id": "fd914f37",
   "metadata": {},
   "source": [
    "<font size=3><b>Reviewing principal components as a linear combination of the original features</b></font>"
   ]
  },
  {
   "cell_type": "code",
   "execution_count": 39,
   "id": "0db1e51b",
   "metadata": {},
   "outputs": [
    {
     "data": {
      "text/html": [
       "<style type=\"text/css\">\n",
       "#T_fbe0d_row1_col0, #T_fbe0d_row2_col0, #T_fbe0d_row3_col0 {\n",
       "  background: skyblue;\n",
       "}\n",
       "#T_fbe0d_row6_col1 {\n",
       "  background: pink;\n",
       "}\n",
       "</style>\n",
       "<table id=\"T_fbe0d\">\n",
       "  <thead>\n",
       "    <tr>\n",
       "      <th class=\"blank level0\" >&nbsp;</th>\n",
       "      <th id=\"T_fbe0d_level0_col0\" class=\"col_heading level0 col0\" >PC1</th>\n",
       "      <th id=\"T_fbe0d_level0_col1\" class=\"col_heading level0 col1\" >PC2</th>\n",
       "    </tr>\n",
       "  </thead>\n",
       "  <tbody>\n",
       "    <tr>\n",
       "      <th id=\"T_fbe0d_level0_row0\" class=\"row_heading level0 row0\" >mpg</th>\n",
       "      <td id=\"T_fbe0d_row0_col0\" class=\"data row0 col0\" >-0.400000</td>\n",
       "      <td id=\"T_fbe0d_row0_col1\" class=\"data row0 col1\" >-0.210000</td>\n",
       "    </tr>\n",
       "    <tr>\n",
       "      <th id=\"T_fbe0d_level0_row1\" class=\"row_heading level0 row1\" >cylinders</th>\n",
       "      <td id=\"T_fbe0d_row1_col0\" class=\"data row1 col0\" >0.420000</td>\n",
       "      <td id=\"T_fbe0d_row1_col1\" class=\"data row1 col1\" >-0.190000</td>\n",
       "    </tr>\n",
       "    <tr>\n",
       "      <th id=\"T_fbe0d_level0_row2\" class=\"row_heading level0 row2\" >displacement</th>\n",
       "      <td id=\"T_fbe0d_row2_col0\" class=\"data row2 col0\" >0.430000</td>\n",
       "      <td id=\"T_fbe0d_row2_col1\" class=\"data row2 col1\" >-0.180000</td>\n",
       "    </tr>\n",
       "    <tr>\n",
       "      <th id=\"T_fbe0d_level0_row3\" class=\"row_heading level0 row3\" >horsepower</th>\n",
       "      <td id=\"T_fbe0d_row3_col0\" class=\"data row3 col0\" >0.420000</td>\n",
       "      <td id=\"T_fbe0d_row3_col1\" class=\"data row3 col1\" >-0.090000</td>\n",
       "    </tr>\n",
       "    <tr>\n",
       "      <th id=\"T_fbe0d_level0_row4\" class=\"row_heading level0 row4\" >weight</th>\n",
       "      <td id=\"T_fbe0d_row4_col0\" class=\"data row4 col0\" >0.410000</td>\n",
       "      <td id=\"T_fbe0d_row4_col1\" class=\"data row4 col1\" >-0.220000</td>\n",
       "    </tr>\n",
       "    <tr>\n",
       "      <th id=\"T_fbe0d_level0_row5\" class=\"row_heading level0 row5\" >acceleration</th>\n",
       "      <td id=\"T_fbe0d_row5_col0\" class=\"data row5 col0\" >-0.280000</td>\n",
       "      <td id=\"T_fbe0d_row5_col1\" class=\"data row5 col1\" >0.020000</td>\n",
       "    </tr>\n",
       "    <tr>\n",
       "      <th id=\"T_fbe0d_level0_row6\" class=\"row_heading level0 row6\" >model_year</th>\n",
       "      <td id=\"T_fbe0d_row6_col0\" class=\"data row6 col0\" >-0.230000</td>\n",
       "      <td id=\"T_fbe0d_row6_col1\" class=\"data row6 col1\" >-0.910000</td>\n",
       "    </tr>\n",
       "  </tbody>\n",
       "</table>\n"
      ],
      "text/plain": [
       "<pandas.io.formats.style.Styler at 0x1ad610fad00>"
      ]
     },
     "execution_count": 39,
     "metadata": {},
     "output_type": "execute_result"
    }
   ],
   "source": [
    "pc_comps = ['PC1', 'PC2']\n",
    "df_pca = pd.DataFrame(np.round(pca1.components_[:2,:],2), index = pc_comps, columns = df_scaled.columns)\n",
    "def color_high(val):\n",
    "    if val < -0.41:                    \n",
    "        return 'background: pink'\n",
    "    elif val > 0.41:\n",
    "        return 'background: skyblue'   \n",
    "df_pca.T.style.applymap(color_high)"
   ]
  },
  {
   "cell_type": "markdown",
   "id": "3712c9a2",
   "metadata": {},
   "source": [
    "<div class=\"alert alert-block alert-info\">\n",
    "    <font size=4 color=black><b>Observations:</b></font><br>\n",
    "    <ul>\n",
    "        <li>Each principal component is a linear combination of the original features</li>\n",
    "        <li>The equation for PC1 in the following manner:</li>\n",
    "        <font color='blue'><b>PC1 = -0.25 * mpg + 0.42 * cylinders + 0.43 * displacement + 0.42 * horsepower + 0.41 * weight - 0.28 *   acceleration - .23 * model_year</b></font>\n",
    "        <li>The <b>first two principal components pick up 83%</b> of the variability in the data</li>\n",
    "        <li>Only those <b>weights with an absolute value greater than 0.41 (median of PC1 weights)</b> are significant thus <b>cylinders, displacement, horsepower, and model_year are likely to be the most important features.</b></li>    \n",
    "    </ul>\n",
    "</div>"
   ]
  },
  {
   "cell_type": "markdown",
   "id": "2efa1282",
   "metadata": {},
   "source": [
    "<div class=\"alert alert-block alert-danger\">\n",
    "    <font color='black' size=5><b>T-distributed stochastic neighbor embedding (t-SNE)</b></font>\n",
    "</div>"
   ]
  },
  {
   "cell_type": "code",
   "execution_count": 40,
   "id": "cf7b6d2a",
   "metadata": {},
   "outputs": [],
   "source": [
    "# Fitting t-SNE with number of components equal to 2 \n",
    "tsne = TSNE(n_components = 2, random_state = 1)\n",
    "df_tsne = tsne.fit_transform(df_scaled)"
   ]
  },
  {
   "cell_type": "code",
   "execution_count": 41,
   "id": "fbc4eead",
   "metadata": {},
   "outputs": [],
   "source": [
    "# Converting the embeddings to a dataframe\n",
    "df_tsne = pd.DataFrame(df_tsne, columns = ['PC1', 'PC2'])"
   ]
  },
  {
   "cell_type": "markdown",
   "id": "27452c4d",
   "metadata": {},
   "source": [
    "<font size=3><b>2D visualization</b></font>"
   ]
  },
  {
   "cell_type": "code",
   "execution_count": 42,
   "id": "6b881a04",
   "metadata": {},
   "outputs": [],
   "source": [
    "# Let's assign points to 4 different groups\n",
    "def grouping(x):\n",
    "    first_component = x['PC1']\n",
    "    \n",
    "    second_component = x['PC2']\n",
    "    \n",
    "    if (first_component < -12) and (second_component < -12):\n",
    "        return 'group_1'\n",
    "    \n",
    "    elif (first_component < 0) and (second_component < 10): \n",
    "        return 'group_2'\n",
    "    \n",
    "    else: \n",
    "        return 'group_3'"
   ]
  },
  {
   "cell_type": "code",
   "execution_count": 43,
   "id": "a6d536cb",
   "metadata": {},
   "outputs": [],
   "source": [
    "df_tsne['groups'] = df_tsne.apply(grouping, axis = 1)"
   ]
  },
  {
   "cell_type": "code",
   "execution_count": 44,
   "id": "cef1e2d5",
   "metadata": {},
   "outputs": [
    {
     "data": {
      "text/plain": [
       "<AxesSubplot:xlabel='PC1', ylabel='PC2'>"
      ]
     },
     "execution_count": 44,
     "metadata": {},
     "output_type": "execute_result"
    },
    {
     "data": {
      "image/png": "[encoded data removed]",
      "text/plain": [
       "<Figure size 504x504 with 1 Axes>"
      ]
     },
     "metadata": {},
     "output_type": "display_data"
    }
   ],
   "source": [
    "# Scatter plot for two components with hue\n",
    "plt.figure(figsize = (7, 7))\n",
    "\n",
    "sns.scatterplot(x = 'PC1', y = 'PC2', data = df_tsne, hue = 'groups')"
   ]
  },
  {
   "cell_type": "markdown",
   "id": "e11044df",
   "metadata": {},
   "source": [
    "<div class=\"alert alert-block alert-info\">\n",
    "    <font size=4 color=black><b>Observations:</b></font><br>\n",
    "    <ul>\n",
    "        <li>We can clearly see three groups in the data</li>\n",
    "    </ul>\n",
    "</div>"
   ]
  },
  {
   "cell_type": "code",
   "execution_count": 45,
   "id": "6ed4de34",
   "metadata": {},
   "outputs": [
    {
     "data": {
      "image/png": "[encoded data removed]",
      "text/plain": [
       "<Figure size 1080x2880 with 7 Axes>"
      ]
     },
     "metadata": {},
     "output_type": "display_data"
    }
   ],
   "source": [
    "all_col = df_scaled.columns.tolist()\n",
    "plt.figure(figsize = (15, 40))\n",
    "\n",
    "for i, variable in enumerate(all_col):\n",
    "    plt.subplot(6, 3, i + 1)\n",
    "    sns.boxplot(y=df_scaled[variable], x=df_tsne['groups'])\n",
    "    #plt.tight_layout()\n",
    "    plt.title(variable)\n",
    "plt.show()"
   ]
  },
  {
   "cell_type": "markdown",
   "id": "24ad0b2c",
   "metadata": {},
   "source": [
    "<div class=\"alert alert-block alert-info\">\n",
    "    <font size=4 color=black><b>Observations:</b></font><br>\n",
    "    The data suggests that car manufacturers are producing newer cars that are lighter, using smaller engines that have faster accelerations with better fuel efficiency. The data has three clear groups with varying characteristics.\n",
    "    <ul>\n",
    "        <li><b>Group 1 represents older cars with larger engines producing the most horsepowe.</b>The vehicles in this group have larger engine displacements that correlate with the car's weight and horsepower. These features require an engine to work harder, consume more fuel, and thus are the least efficient concerning miles per gallon (MPG).</li><br>\n",
    "        <li>Group 2 represents a wide variation of newer and older model cars. <b>The cars in group 2 have more acceleration and are more fuel-efficient.</b> The mean engine displacement, horsepower, and weight are lower than cars in Group 1 but have higher mean values for acceleration and mpg.</li><br>\n",
    "        <li>Group 3 represents later model_year cars. This group of vehicles has the lowest mean horsepower, weight, and displacement but <b>is achieving the highest mean acceleration and mpg of all three groups</b>. Group 3 has fewer variations for displacement and horsepower, indicating the engines are similar in size and power.</li><br>\n",
    "        <li><b>In 1980, there was a big increase in fuel efficiency</b></li>\n",
    "    </ul>\n",
    "</div>"
   ]
  },
  {
   "cell_type": "code",
   "execution_count": null,
   "id": "286b4dc4",
   "metadata": {},
   "outputs": [],
   "source": []
  }
 ],
 "metadata": {
  "kernelspec": {
   "display_name": "Python 3 (ipykernel)",
   "language": "python",
   "name": "python3"
  },
  "language_info": {
   "codemirror_mode": {
    "name": "ipython",
    "version": 3
   },
   "file_extension": ".py",
   "mimetype": "text/x-python",
   "name": "python",
   "nbconvert_exporter": "python",
   "pygments_lexer": "ipython3",
   "version": "3.9.13"
  }
 },
 "nbformat": 4,
 "nbformat_minor": 5
}
